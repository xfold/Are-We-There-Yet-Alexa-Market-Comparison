{
 "cells": [
  {
   "cell_type": "code",
   "execution_count": 1,
   "metadata": {},
   "outputs": [],
   "source": [
    "import pandas as pd"
   ]
  },
  {
   "cell_type": "markdown",
   "metadata": {},
   "source": [
    "# Load Datasets"
   ]
  },
  {
   "cell_type": "code",
   "execution_count": 11,
   "metadata": {},
   "outputs": [],
   "source": [
    "alldatasets = [\n",
    "    'datasets/DatasetsProcessedTraceability/2019.csv',\n",
    "    'datasets/DatasetsProcessedTraceability/2020.csv',\n",
    "    'datasets/DatasetsProcessedTraceability/2021.csv',\n",
    "]"
   ]
  },
  {
   "cell_type": "markdown",
   "metadata": {},
   "source": [
    "## Load datasets"
   ]
  },
  {
   "cell_type": "code",
   "execution_count": 3,
   "metadata": {},
   "outputs": [
    {
     "name": "stderr",
     "output_type": "stream",
     "text": [
      "C:\\Users\\User\\AppData\\Roaming\\Python\\Python37\\site-packages\\IPython\\core\\interactiveshell.py:3049: DtypeWarning: Columns (9,10) have mixed types. Specify dtype option on import or set low_memory=False.\n",
      "  interactivity=interactivity, compiler=compiler, result=result)\n",
      "C:\\Users\\User\\AppData\\Roaming\\Python\\Python37\\site-packages\\IPython\\core\\interactiveshell.py:3049: DtypeWarning: Columns (10) have mixed types. Specify dtype option on import or set low_memory=False.\n",
      "  interactivity=interactivity, compiler=compiler, result=result)\n"
     ]
    }
   ],
   "source": [
    "df2019 = pd.read_csv(alldatasets[0])\n",
    "df2020 = pd.read_csv(alldatasets[1])\n",
    "df2021 = pd.read_csv(alldatasets[2])"
   ]
  },
  {
   "cell_type": "code",
   "execution_count": 4,
   "metadata": {},
   "outputs": [
    {
     "data": {
      "text/plain": [
       "Index(['Unnamed: 0', 'id_name_dev', 'id_aux', 'id', 'name', 'dev', 'cat',\n",
       "       'market', 'subcat', 'acc_linking', 'in_skill_purchase', 'cost',\n",
       "       'review_stars', 'skill_link', 'year', 'perm_requested_original',\n",
       "       'perm_found_norm', 'perm_requested_norm', 'policy_url', 'policy_text',\n",
       "       'traceability'],\n",
       "      dtype='object')"
      ]
     },
     "execution_count": 4,
     "metadata": {},
     "output_type": "execute_result"
    }
   ],
   "source": [
    "df2019.columns"
   ]
  },
  {
   "cell_type": "markdown",
   "metadata": {},
   "source": [
    "### Examples"
   ]
  },
  {
   "cell_type": "markdown",
   "metadata": {},
   "source": [
    "#### Total number of skills"
   ]
  },
  {
   "cell_type": "code",
   "execution_count": 5,
   "metadata": {},
   "outputs": [
    {
     "name": "stdout",
     "output_type": "stream",
     "text": [
      "23123 unique skills found in AU\n",
      "24700 unique skills found in CA\n",
      "8928 unique skills found in DE\n",
      "1286 unique skills found in ES\n",
      "1341 unique skills found in FR\n",
      "20989 unique skills found in IN\n",
      "2210 unique skills found in IT\n",
      "2679 unique skills found in JP\n",
      "897 unique skills found in MX\n",
      "29094 unique skills found in UK\n",
      "51338 unique skills found in US\n"
     ]
    }
   ],
   "source": [
    "allmarkets = df2019.market.unique()\n",
    "for mk in allmarkets:\n",
    "    print('{} unique skills found in {}'.format(len(df2019.loc[df2019['market'] == mk] ), mk))"
   ]
  },
  {
   "cell_type": "markdown",
   "metadata": {},
   "source": [
    "#### Check how many skills have a policy"
   ]
  },
  {
   "cell_type": "code",
   "execution_count": 20,
   "metadata": {},
   "outputs": [
    {
     "name": "stdout",
     "output_type": "stream",
     "text": [
      "0 unique skills have a policy in AU\n",
      "0 unique skills have a policy in CA\n",
      "0 unique skills have a policy in DE\n",
      "0 unique skills have a policy in ES\n",
      "0 unique skills have a policy in FR\n",
      "0 unique skills have a policy in IN\n",
      "0 unique skills have a policy in IT\n",
      "0 unique skills have a policy in JP\n",
      "0 unique skills have a policy in MX\n",
      "0 unique skills have a policy in UK\n",
      "0 unique skills have a policy in US\n"
     ]
    }
   ],
   "source": [
    "allmarkets = df2019.market.unique()\n",
    "for mk in allmarkets:\n",
    "    auxdf = df2019.loc[ (df2019['market']==mk) & (df2019['perm_requested_norm'].notnull())]\n",
    "    print('{} unique skills have a policy in {}'.format(len(auxdf), mk))"
   ]
  },
  {
   "cell_type": "code",
   "execution_count": 21,
   "metadata": {},
   "outputs": [
    {
     "name": "stdout",
     "output_type": "stream",
     "text": [
      "0 unique skills have a policy in AU\n",
      "0 unique skills have a policy in CA\n",
      "0 unique skills have a policy in DE\n",
      "0 unique skills have a policy in ES\n",
      "0 unique skills have a policy in FR\n",
      "0 unique skills have a policy in IN\n",
      "0 unique skills have a policy in IT\n",
      "0 unique skills have a policy in JP\n",
      "0 unique skills have a policy in MX\n",
      "0 unique skills have a policy in UK\n",
      "0 unique skills have a policy in US\n"
     ]
    }
   ],
   "source": [
    "allmarkets = df2020.market.unique()\n",
    "for mk in allmarkets:\n",
    "    auxdf = df2020.loc[ (df2020['market']==mk) & (df2020['perm_requested_norm'].notnull())]\n",
    "    print('{} unique skills have a policy in {}'.format(len(auxdf), mk))"
   ]
  },
  {
   "cell_type": "code",
   "execution_count": 22,
   "metadata": {},
   "outputs": [
    {
     "name": "stdout",
     "output_type": "stream",
     "text": [
      "0 unique skills have a policy in AU\n",
      "0 unique skills have a policy in CA\n",
      "0 unique skills have a policy in DE\n",
      "0 unique skills have a policy in ES\n",
      "0 unique skills have a policy in FR\n",
      "0 unique skills have a policy in IN\n",
      "0 unique skills have a policy in IT\n",
      "0 unique skills have a policy in JP\n",
      "0 unique skills have a policy in MX\n",
      "0 unique skills have a policy in UK\n",
      "0 unique skills have a policy in US\n"
     ]
    }
   ],
   "source": [
    "allmarkets = df2021.market.unique()\n",
    "for mk in allmarkets:\n",
    "    auxdf = df2021.loc[ (df2021['market']==mk) & (df2021['perm_requested_norm'].notnull())]\n",
    "    print('{} unique skills have a policy in {}'.format(len(auxdf), mk))"
   ]
  },
  {
   "cell_type": "markdown",
   "metadata": {},
   "source": [
    "#### Number of developers per market"
   ]
  },
  {
   "cell_type": "code",
   "execution_count": 7,
   "metadata": {},
   "outputs": [
    {
     "name": "stdout",
     "output_type": "stream",
     "text": [
      "10123 unique devs in AU\n",
      "10773 unique devs in CA\n",
      "3165 unique devs in DE\n",
      "716 unique devs in ES\n",
      "641 unique devs in FR\n",
      "9197 unique devs in IN\n",
      "1095 unique devs in IT\n",
      "1056 unique devs in JP\n",
      "540 unique devs in MX\n",
      "12078 unique devs in UK\n",
      "19507 unique devs in US\n"
     ]
    }
   ],
   "source": [
    "allmarkets = df2019.market.unique()\n",
    "for mk in allmarkets:\n",
    "    marketdf = df2019.loc[df2019['market'] == mk]\n",
    "    alldevs = marketdf.dev.unique()\n",
    "    print('{} unique devs in {}'.format(len(alldevs), mk))"
   ]
  },
  {
   "cell_type": "markdown",
   "metadata": {},
   "source": [
    "#### check how many skills have the same name__dev"
   ]
  },
  {
   "cell_type": "code",
   "execution_count": 8,
   "metadata": {},
   "outputs": [
    {
     "name": "stdout",
     "output_type": "stream",
     "text": [
      "AU market, 24512 unique ids, 24512 total entries\n",
      "CA market, 27093 unique ids, 27093 total entries\n",
      "DE market, 10631 unique ids, 10631 total entries\n",
      "ES market, 5435 unique ids, 5435 total entries\n",
      "FR market, 2863 unique ids, 2863 total entries\n",
      "IN market, 28672 unique ids, 28672 total entries\n",
      "IT market, 4649 unique ids, 4649 total entries\n",
      "JP market, 3637 unique ids, 3637 total entries\n",
      "MX market, 2486 unique ids, 2486 total entries\n",
      "UK market, 37056 unique ids, 37056 total entries\n",
      "US market, 68667 unique ids, 68667 total entries\n"
     ]
    }
   ],
   "source": [
    "allmarkets = df2021.market.unique()\n",
    "for mk in allmarkets:\n",
    "    marketdf = df2021.loc[df2021['market'] == mk]\n",
    "    print('{} market, {} unique ids, {} total entries'.format(mk, len(marketdf.id_aux.unique()), len(marketdf) ))\n",
    "   "
   ]
  },
  {
   "cell_type": "markdown",
   "metadata": {},
   "source": [
    "#### check if permissions are correctly mapped for all datasets"
   ]
  },
  {
   "cell_type": "code",
   "execution_count": 8,
   "metadata": {},
   "outputs": [
    {
     "name": "stdout",
     "output_type": "stream",
     "text": [
      "            name          dev market                 perm_requested_norm\n",
      "741     Stitcher  by Stitcher     AU  ['device country and postal code']\n",
      "23486   Stitcher  by Stitcher     CA  ['device country and postal code']\n",
      "76032   Stitcher  by Stitcher     IN  ['device country and postal code']\n",
      "88152   Stitcher  by Stitcher     UK  ['device country and postal code']\n",
      "116194  Stitcher  by Stitcher     US  ['device country and postal code']\n"
     ]
    }
   ],
   "source": [
    "print( df2019[df2019['name']=='Stitcher'][['name', 'dev', 'market', 'perm_requested_norm']] )"
   ]
  },
  {
   "cell_type": "code",
   "execution_count": 9,
   "metadata": {},
   "outputs": [
    {
     "name": "stdout",
     "output_type": "stream",
     "text": [
      "            name          dev market                 perm_requested_norm\n",
      "41308   Stitcher  by Stitcher     CA  ['device country and postal code']\n",
      "131165  Stitcher  by Stitcher     UK  ['device country and postal code']\n",
      "177055  Stitcher  by Stitcher     US  ['device country and postal code']\n"
     ]
    }
   ],
   "source": [
    "print( df2020[df2020['name']=='Stitcher'][['name', 'dev', 'market', 'perm_requested_norm']] )"
   ]
  },
  {
   "cell_type": "code",
   "execution_count": 10,
   "metadata": {},
   "outputs": [
    {
     "name": "stdout",
     "output_type": "stream",
     "text": [
      "            name          dev market                 perm_requested_norm\n",
      "93991   Stitcher  by Stitcher     IN  ['device country and postal code']\n",
      "131778  Stitcher  by Stitcher     UK  ['device country and postal code']\n",
      "172109  Stitcher  by Stitcher     US  ['device country and postal code']\n"
     ]
    }
   ],
   "source": [
    "print( df2021[df2021['name']=='Stitcher'][['name', 'dev', 'market', 'perm_requested_norm']] )"
   ]
  },
  {
   "cell_type": "markdown",
   "metadata": {},
   "source": [
    "## Load datasets id"
   ]
  },
  {
   "cell_type": "code",
   "execution_count": null,
   "metadata": {},
   "outputs": [],
   "source": []
  }
 ],
 "metadata": {
  "kernelspec": {
   "display_name": "Python 3",
   "language": "python",
   "name": "python3"
  },
  "language_info": {
   "codemirror_mode": {
    "name": "ipython",
    "version": 3
   },
   "file_extension": ".py",
   "mimetype": "text/x-python",
   "name": "python",
   "nbconvert_exporter": "python",
   "pygments_lexer": "ipython3",
   "version": "3.7.9"
  }
 },
 "nbformat": 4,
 "nbformat_minor": 2
}

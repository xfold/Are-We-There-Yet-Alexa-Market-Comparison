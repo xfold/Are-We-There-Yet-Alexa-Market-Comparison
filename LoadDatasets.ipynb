{
 "cells": [
  {
   "cell_type": "code",
   "execution_count": 5,
   "metadata": {},
   "outputs": [],
   "source": [
    "import pandas as pd"
   ]
  },
  {
   "cell_type": "markdown",
   "metadata": {},
   "source": [
    "# Load Datasets"
   ]
  },
  {
   "cell_type": "code",
   "execution_count": 6,
   "metadata": {},
   "outputs": [],
   "source": [
    "alldatasets = [\n",
    "    'datasets/DatasetsProcessedTraceability/2019.csv',\n",
    "    'datasets/DatasetsProcessedTraceability/2020.csv',\n",
    "    'datasets/DatasetsProcessedTraceability/2021.csv',\n",
    "]"
   ]
  },
  {
   "cell_type": "markdown",
   "metadata": {},
   "source": [
    "## Load dataset 2019"
   ]
  },
  {
   "cell_type": "code",
   "execution_count": 7,
   "metadata": {},
   "outputs": [],
   "source": [
    "df2019 = pd.read_csv(alldatasets[0])"
   ]
  },
  {
   "cell_type": "code",
   "execution_count": 8,
   "metadata": {},
   "outputs": [
    {
     "data": {
      "text/plain": [
       "Index(['Unnamed: 0', 'id_aux', 'id', 'name', 'dev', 'cat', 'market', 'subcat',\n",
       "       'acc_linking', 'in_skill_purchase', 'cost', 'review_stars',\n",
       "       'skill_link', 'year', 'perm_requested_original', 'perm_found_norm',\n",
       "       'perm_requested_norm', 'policy_url', 'policy_text', 'traceability'],\n",
       "      dtype='object')"
      ]
     },
     "execution_count": 8,
     "metadata": {},
     "output_type": "execute_result"
    }
   ],
   "source": [
    "df2019.columns"
   ]
  },
  {
   "cell_type": "markdown",
   "metadata": {},
   "source": [
    "## Examples"
   ]
  },
  {
   "cell_type": "markdown",
   "metadata": {},
   "source": [
    "### Total number of skills"
   ]
  },
  {
   "cell_type": "code",
   "execution_count": 12,
   "metadata": {},
   "outputs": [
    {
     "name": "stdout",
     "output_type": "stream",
     "text": [
      "23123 unique skills found in AU\n",
      "24700 unique skills found in CA\n",
      "8928 unique skills found in DE\n",
      "1286 unique skills found in ES\n",
      "1341 unique skills found in FR\n",
      "20989 unique skills found in IN\n",
      "2210 unique skills found in IT\n",
      "2679 unique skills found in JP\n",
      "897 unique skills found in MX\n",
      "29094 unique skills found in UK\n",
      "51338 unique skills found in US\n"
     ]
    }
   ],
   "source": [
    "allmarkets = df2019.market.unique()\n",
    "for mk in allmarkets:\n",
    "    print('{} unique skills found in {}'.format(len(df2019.loc[df2019['market'] == mk] ), mk))"
   ]
  },
  {
   "cell_type": "markdown",
   "metadata": {},
   "source": [
    "### Check how many skills have a policy"
   ]
  },
  {
   "cell_type": "code",
   "execution_count": 13,
   "metadata": {},
   "outputs": [
    {
     "name": "stdout",
     "output_type": "stream",
     "text": [
      "120 unique skills have a policy in AU\n",
      "158 unique skills have a policy in CA\n",
      "0 unique skills have a policy in DE\n",
      "0 unique skills have a policy in ES\n",
      "0 unique skills have a policy in FR\n",
      "111 unique skills have a policy in IN\n",
      "0 unique skills have a policy in IT\n",
      "0 unique skills have a policy in JP\n",
      "0 unique skills have a policy in MX\n",
      "287 unique skills have a policy in UK\n",
      "658 unique skills have a policy in US\n"
     ]
    }
   ],
   "source": [
    "allmarkets = df2019.market.unique()\n",
    "for mk in allmarkets:\n",
    "    auxdf = df2019.loc[ (df2019['market']==mk) & (df2019['perm_requested_norm'].notnull())]\n",
    "    print('{} unique skills have a policy in {}'.format(len(auxdf), mk))"
   ]
  },
  {
   "cell_type": "markdown",
   "metadata": {},
   "source": [
    "### Number of developers per market"
   ]
  },
  {
   "cell_type": "code",
   "execution_count": 15,
   "metadata": {},
   "outputs": [
    {
     "name": "stdout",
     "output_type": "stream",
     "text": [
      "10123 unique devs in AU\n",
      "10773 unique devs in CA\n",
      "3165 unique devs in DE\n",
      "716 unique devs in ES\n",
      "641 unique devs in FR\n",
      "9197 unique devs in IN\n",
      "1095 unique devs in IT\n",
      "1056 unique devs in JP\n",
      "540 unique devs in MX\n",
      "12078 unique devs in UK\n",
      "19507 unique devs in US\n"
     ]
    }
   ],
   "source": [
    "allmarkets = df2019.market.unique()\n",
    "for mk in allmarkets:\n",
    "    marketdf = df2019.loc[df2019['market'] == mk]\n",
    "    alldevs = marketdf.dev.unique()\n",
    "    print('{} unique devs in {}'.format(len(alldevs), mk))"
   ]
  },
  {
   "cell_type": "code",
   "execution_count": null,
   "metadata": {},
   "outputs": [],
   "source": []
  }
 ],
 "metadata": {
  "kernelspec": {
   "display_name": "Python 3",
   "language": "python",
   "name": "python3"
  },
  "language_info": {
   "codemirror_mode": {
    "name": "ipython",
    "version": 3
   },
   "file_extension": ".py",
   "mimetype": "text/x-python",
   "name": "python",
   "nbconvert_exporter": "python",
   "pygments_lexer": "ipython3",
   "version": "3.7.9"
  }
 },
 "nbformat": 4,
 "nbformat_minor": 2
}

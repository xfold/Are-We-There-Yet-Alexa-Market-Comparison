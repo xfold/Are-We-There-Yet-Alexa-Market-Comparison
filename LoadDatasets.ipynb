{
 "cells": [
  {
   "cell_type": "code",
   "execution_count": 1,
   "metadata": {},
   "outputs": [],
   "source": [
    "import pandas as pd"
   ]
  },
  {
   "cell_type": "markdown",
   "metadata": {},
   "source": [
    "# Load Datasets"
   ]
  },
  {
   "cell_type": "raw",
   "metadata": {},
   "source": [
    "This jupyter notebook contains examples on how to load/test the provided datasets for Alexa"
   ]
  },
  {
   "cell_type": "code",
   "execution_count": 135,
   "metadata": {},
   "outputs": [],
   "source": [
    "alldatasets = [\n",
    "    'datasets/DatasetsProcessedTraceability/2019_ids.csv',\n",
    "    'datasets/DatasetsProcessedTraceability/2020_ids.csv',\n",
    "    'datasets/DatasetsProcessedTraceability/2021_ids.csv',\n",
    "]"
   ]
  },
  {
   "cell_type": "markdown",
   "metadata": {},
   "source": [
    "## Load datasets"
   ]
  },
  {
   "cell_type": "code",
   "execution_count": 136,
   "metadata": {},
   "outputs": [],
   "source": [
    "df2019 = pd.read_csv(alldatasets[0])\n",
    "df2020 = pd.read_csv(alldatasets[1])\n",
    "df2021 = pd.read_csv(alldatasets[2])"
   ]
  },
  {
   "cell_type": "code",
   "execution_count": 117,
   "metadata": {},
   "outputs": [
    {
     "data": {
      "text/plain": [
       "Index(['Unnamed: 0', 'Unnamed: 0.1', 'id_name_dev', 'id_aux', 'id', 'name',\n",
       "       'dev', 'cat', 'market', 'subcat', 'acc_linking', 'in_skill_purchase',\n",
       "       'cost', 'review_stars', 'skill_link', 'year', 'perm_requested_original',\n",
       "       'perm_found_norm', 'perm_requested_norm', 'policy_url', 'policy_text',\n",
       "       'traceability'],\n",
       "      dtype='object')"
      ]
     },
     "execution_count": 117,
     "metadata": {},
     "output_type": "execute_result"
    }
   ],
   "source": [
    "df2019.columns"
   ]
  },
  {
   "cell_type": "markdown",
   "metadata": {},
   "source": [
    "### Examples"
   ]
  },
  {
   "cell_type": "markdown",
   "metadata": {},
   "source": [
    "#### Total number of skills i 2019"
   ]
  },
  {
   "cell_type": "code",
   "execution_count": 5,
   "metadata": {},
   "outputs": [
    {
     "name": "stdout",
     "output_type": "stream",
     "text": [
      "23123 unique skills found in AU\n",
      "24700 unique skills found in CA\n",
      "8928 unique skills found in DE\n",
      "1286 unique skills found in ES\n",
      "1341 unique skills found in FR\n",
      "20989 unique skills found in IN\n",
      "2210 unique skills found in IT\n",
      "2679 unique skills found in JP\n",
      "897 unique skills found in MX\n",
      "29094 unique skills found in UK\n",
      "51338 unique skills found in US\n"
     ]
    }
   ],
   "source": [
    "allmarkets = df2019.market.unique()\n",
    "for mk in allmarkets:\n",
    "    print('{} unique skills found in {}'.format(len(df2019.loc[df2019['market'] == mk] ), mk))"
   ]
  },
  {
   "cell_type": "markdown",
   "metadata": {},
   "source": [
    "#### Check how many skills have a policy over the years"
   ]
  },
  {
   "cell_type": "code",
   "execution_count": 137,
   "metadata": {},
   "outputs": [
    {
     "name": "stdout",
     "output_type": "stream",
     "text": [
      "120 unique skills have a policy in AU\n",
      "158 unique skills have a policy in CA\n",
      "0 unique skills have a policy in DE\n",
      "0 unique skills have a policy in ES\n",
      "0 unique skills have a policy in FR\n",
      "111 unique skills have a policy in IN\n",
      "0 unique skills have a policy in IT\n",
      "0 unique skills have a policy in JP\n",
      "0 unique skills have a policy in MX\n",
      "287 unique skills have a policy in UK\n",
      "658 unique skills have a policy in US\n"
     ]
    }
   ],
   "source": [
    "#permission requested normalised\n",
    "allmarkets = df2019.market.unique()\n",
    "for mk in allmarkets:\n",
    "    auxdf = df2019.loc[ (df2019['market']==mk) & (df2019['perm_requested_norm'].notnull())]\n",
    "    print('{} unique skills have a policy in {}'.format(len(auxdf), mk))"
   ]
  },
  {
   "cell_type": "code",
   "execution_count": 138,
   "metadata": {},
   "outputs": [
    {
     "name": "stdout",
     "output_type": "stream",
     "text": [
      "150 unique skills have a policy in AU\n",
      "197 unique skills have a policy in CA\n",
      "256 unique skills have a policy in DE\n",
      "42 unique skills have a policy in ES\n",
      "29 unique skills have a policy in FR\n",
      "158 unique skills have a policy in IN\n",
      "25 unique skills have a policy in IT\n",
      "74 unique skills have a policy in JP\n",
      "29 unique skills have a policy in MX\n",
      "351 unique skills have a policy in UK\n",
      "798 unique skills have a policy in US\n"
     ]
    }
   ],
   "source": [
    "#permission requested original\n",
    "allmarkets = df2019.market.unique()\n",
    "for mk in allmarkets:\n",
    "    auxdf = df2019.loc[ (df2019['market']==mk) & (df2019['perm_requested_original'].notnull())]\n",
    "    print('{} unique skills have a policy in {}'.format(len(auxdf), mk))"
   ]
  },
  {
   "cell_type": "code",
   "execution_count": 7,
   "metadata": {},
   "outputs": [
    {
     "name": "stdout",
     "output_type": "stream",
     "text": [
      "212 unique skills have a policy in AU\n",
      "251 unique skills have a policy in CA\n",
      "0 unique skills have a policy in DE\n",
      "0 unique skills have a policy in ES\n",
      "0 unique skills have a policy in FR\n",
      "270 unique skills have a policy in IN\n",
      "0 unique skills have a policy in IT\n",
      "0 unique skills have a policy in JP\n",
      "0 unique skills have a policy in MX\n",
      "441 unique skills have a policy in UK\n",
      "1301 unique skills have a policy in US\n"
     ]
    }
   ],
   "source": [
    "allmarkets = df2020.market.unique()\n",
    "for mk in allmarkets:\n",
    "    auxdf = df2020.loc[ (df2020['market']==mk) & (df2020['perm_requested_norm'].notnull())]\n",
    "    print('{} unique skills have a policy in {}'.format(len(auxdf), mk))"
   ]
  },
  {
   "cell_type": "code",
   "execution_count": 8,
   "metadata": {},
   "outputs": [
    {
     "name": "stdout",
     "output_type": "stream",
     "text": [
      "235 unique skills have a policy in AU\n",
      "250 unique skills have a policy in CA\n",
      "40 unique skills have a policy in DE\n",
      "0 unique skills have a policy in ES\n",
      "0 unique skills have a policy in FR\n",
      "243 unique skills have a policy in IN\n",
      "0 unique skills have a policy in IT\n",
      "0 unique skills have a policy in JP\n",
      "0 unique skills have a policy in MX\n",
      "461 unique skills have a policy in UK\n",
      "1522 unique skills have a policy in US\n"
     ]
    }
   ],
   "source": [
    "allmarkets = df2021.market.unique()\n",
    "for mk in allmarkets:\n",
    "    auxdf = df2021.loc[ (df2021['market']==mk) & (df2021['perm_requested_norm'].notnull())]\n",
    "    print('{} unique skills have a policy in {}'.format(len(auxdf), mk))"
   ]
  },
  {
   "cell_type": "markdown",
   "metadata": {},
   "source": [
    "#### Number of developers per market in 2019"
   ]
  },
  {
   "cell_type": "code",
   "execution_count": 9,
   "metadata": {},
   "outputs": [
    {
     "name": "stdout",
     "output_type": "stream",
     "text": [
      "10123 unique devs in AU\n",
      "10773 unique devs in CA\n",
      "3165 unique devs in DE\n",
      "716 unique devs in ES\n",
      "641 unique devs in FR\n",
      "9197 unique devs in IN\n",
      "1095 unique devs in IT\n",
      "1056 unique devs in JP\n",
      "540 unique devs in MX\n",
      "12078 unique devs in UK\n",
      "19507 unique devs in US\n"
     ]
    }
   ],
   "source": [
    "allmarkets = df2019.market.unique()\n",
    "for mk in allmarkets:\n",
    "    marketdf = df2019.loc[df2019['market'] == mk]\n",
    "    alldevs = marketdf.dev.unique()\n",
    "    print('{} unique devs in {}'.format(len(alldevs), mk))"
   ]
  },
  {
   "cell_type": "markdown",
   "metadata": {},
   "source": [
    "#### check how many skills have the same name__dev in 2021"
   ]
  },
  {
   "cell_type": "code",
   "execution_count": 12,
   "metadata": {},
   "outputs": [
    {
     "name": "stdout",
     "output_type": "stream",
     "text": [
      "AU market, 24228 unique id__dev, 24512 total entries\n",
      "CA market, 26763 unique id__dev, 27093 total entries\n",
      "DE market, 10593 unique id__dev, 10631 total entries\n",
      "ES market, 5419 unique id__dev, 5435 total entries\n",
      "FR market, 2835 unique id__dev, 2863 total entries\n",
      "IN market, 28221 unique id__dev, 28672 total entries\n",
      "IT market, 4640 unique id__dev, 4649 total entries\n",
      "JP market, 3623 unique id__dev, 3637 total entries\n",
      "MX market, 2484 unique id__dev, 2486 total entries\n",
      "UK market, 36698 unique id__dev, 37056 total entries\n",
      "US market, 68157 unique id__dev, 68667 total entries\n"
     ]
    }
   ],
   "source": [
    "allmarkets = df2021.market.unique()\n",
    "for mk in allmarkets:\n",
    "    marketdf = df2021.loc[df2021['market'] == mk]\n",
    "    print('{} market, {} unique id__dev, {} total entries'.format(mk, len(marketdf.id_name_dev.unique()), len(marketdf) ))\n",
    "   "
   ]
  },
  {
   "cell_type": "markdown",
   "metadata": {},
   "source": [
    "#### check if permissions are correctly mapped for all datasets"
   ]
  },
  {
   "cell_type": "code",
   "execution_count": 111,
   "metadata": {},
   "outputs": [
    {
     "name": "stdout",
     "output_type": "stream",
     "text": [
      "            name          dev market                 perm_requested_norm  \\\n",
      "741     Stitcher  by Stitcher     AU  ['device country and postal code']   \n",
      "23486   Stitcher  by Stitcher     CA  ['device country and postal code']   \n",
      "76032   Stitcher  by Stitcher     IN  ['device country and postal code']   \n",
      "88152   Stitcher  by Stitcher     UK  ['device country and postal code']   \n",
      "116194  Stitcher  by Stitcher     US  ['device country and postal code']   \n",
      "\n",
      "        year   id  \n",
      "741     2019  742  \n",
      "23486   2019  742  \n",
      "76032   2019  742  \n",
      "88152   2019  742  \n",
      "116194  2019  742  \n"
     ]
    }
   ],
   "source": [
    "print( df2019[df2019['name']=='Stitcher'][['name', 'dev', 'market', 'perm_requested_norm', 'year', 'id']] )"
   ]
  },
  {
   "cell_type": "code",
   "execution_count": 110,
   "metadata": {},
   "outputs": [
    {
     "name": "stdout",
     "output_type": "stream",
     "text": [
      "            name          dev market                 perm_requested_norm  \\\n",
      "41308   Stitcher  by Stitcher     CA  ['device country and postal code']   \n",
      "131165  Stitcher  by Stitcher     UK  ['device country and postal code']   \n",
      "177055  Stitcher  by Stitcher     US  ['device country and postal code']   \n",
      "\n",
      "        year   id  \n",
      "41308   2020  742  \n",
      "131165  2020  742  \n",
      "177055  2020  742  \n"
     ]
    }
   ],
   "source": [
    "print( df2020[df2020['name']=='Stitcher'][['name', 'dev', 'market', 'perm_requested_norm', 'year', 'id']] )"
   ]
  },
  {
   "cell_type": "code",
   "execution_count": 109,
   "metadata": {},
   "outputs": [
    {
     "name": "stdout",
     "output_type": "stream",
     "text": [
      "            name          dev market                 perm_requested_norm  \\\n",
      "93991   Stitcher  by Stitcher     IN  ['device country and postal code']   \n",
      "131778  Stitcher  by Stitcher     UK  ['device country and postal code']   \n",
      "172109  Stitcher  by Stitcher     US  ['device country and postal code']   \n",
      "\n",
      "        year   id  \n",
      "93991   2021  742  \n",
      "131778  2021  742  \n",
      "172109  2021  742  \n"
     ]
    }
   ],
   "source": [
    "print( df2021[df2021['name']=='Stitcher'][['name', 'dev', 'market', 'perm_requested_norm', 'year', 'id']] )"
   ]
  },
  {
   "cell_type": "markdown",
   "metadata": {},
   "source": [
    "##### check number of unique skills with policy among markets"
   ]
  },
  {
   "cell_type": "code",
   "execution_count": 143,
   "metadata": {},
   "outputs": [
    {
     "name": "stdout",
     "output_type": "stream",
     "text": [
      "Unique skills with at least one permission 2019 1429\n"
     ]
    }
   ],
   "source": [
    "#number of unique skills (skillname_dev) that requested for one or more permissions in 2019\n",
    "df2019_selected = df2019.loc[ (df2019['perm_requested_original'].notnull()) ]\n",
    "df2019_selected = df2019_selected.drop_duplicates(subset='id_name_dev', keep=\"last\")\n",
    "df2019_selected = df2019_selected.drop(['market'], axis = 1)\n",
    "print('Unique skills with at least one permission 2019', len(df2019_selected))"
   ]
  },
  {
   "cell_type": "markdown",
   "metadata": {},
   "source": [
    "#### check how skills with policy change over the years"
   ]
  },
  {
   "cell_type": "code",
   "execution_count": 112,
   "metadata": {},
   "outputs": [
    {
     "data": {
      "text/plain": [
       "Index(['Unnamed: 0', 'Unnamed: 0.1', 'id_name_dev', 'id_aux', 'id', 'name',\n",
       "       'dev', 'cat', 'market', 'subcat', 'acc_linking', 'in_skill_purchase',\n",
       "       'cost', 'review_stars', 'skill_link', 'year', 'perm_requested_original',\n",
       "       'perm_found_norm', 'perm_requested_norm', 'policy_url', 'policy_text',\n",
       "       'traceability'],\n",
       "      dtype='object')"
      ]
     },
     "execution_count": 112,
     "metadata": {},
     "output_type": "execute_result"
    }
   ],
   "source": [
    "df2019.columns"
   ]
  },
  {
   "cell_type": "code",
   "execution_count": 139,
   "metadata": {},
   "outputs": [],
   "source": [
    "def findSkillById(skillid, dataframes, columnstoshow = ['name', 'dev']):\n",
    "    '''\n",
    "    skillid : int, representing skill id\n",
    "    dataframes : list of dataframes to check\n",
    "    '''\n",
    "    for df in dataframes:\n",
    "        print(df[df['id']==skillid][columnstoshow])\n",
    "    \n",
    "    "
   ]
  },
  {
   "cell_type": "code",
   "execution_count": 141,
   "metadata": {},
   "outputs": [
    {
     "name": "stdout",
     "output_type": "stream",
     "text": [
      "Unique skills with at least one permission 2019 987\n",
      "Unique skills with at least one permission 2020 1635\n",
      "Unique skills with at least one permission 2021 1849\n"
     ]
    }
   ],
   "source": [
    "#first preselect the interesting markets and only these skills that have permissions\n",
    "df2019_selected = df2019.loc[ (df2019['market'].isin(['US', 'UK', 'CA', 'AU', 'IN'])) & (df2019['perm_requested_norm'].notnull()) ]\n",
    "df2019_selected = df2019_selected.drop_duplicates(subset='id_name_dev', keep=\"last\")\n",
    "df2019_selected = df2019_selected.drop(['market'], axis = 1)\n",
    "print('Unique skills with at least one permission 2019', len(df2019_selected))\n",
    "\n",
    "df2020_selected = df2020.loc[ (df2020['market'].isin(['US', 'UK', 'CA', 'AU', 'IN'])) & (df2020['perm_requested_norm'].notnull()) ]\n",
    "df2020_selected = df2020_selected.drop_duplicates(subset='id_name_dev', keep=\"last\")\n",
    "df2020_selected = df2020_selected.drop(['market'], axis = 1)\n",
    "print('Unique skills with at least one permission 2020', len(df2020_selected))\n",
    "\n",
    "df2021_selected = df2021.loc[ (df2021['market'].isin(['US', 'UK', 'CA', 'AU', 'IN'])) & (df2021['perm_requested_norm'].notnull()) ]\n",
    "df2021_selected = df2021_selected.drop_duplicates(subset='id_name_dev', keep=\"last\")\n",
    "df2021_selected = df2021_selected.drop(['market'], axis = 1)\n",
    "print('Unique skills with at least one permission 2021', len(df2021_selected))"
   ]
  },
  {
   "cell_type": "code",
   "execution_count": 52,
   "metadata": {},
   "outputs": [
    {
     "name": "stdout",
     "output_type": "stream",
     "text": [
      "           name                                       dev  \\\n",
      "1355  7 SUNRISE  by Seven West Media - Digital Department   \n",
      "\n",
      "                     perm_requested_norm  year  \n",
      "1355  ['device country and postal code']  2019  \n",
      "            name                                       dev  \\\n",
      "19344  7 SUNRISE  by Seven West Media - Digital Department   \n",
      "\n",
      "                      perm_requested_norm  year  \n",
      "19344  ['device country and postal code']  2020  \n",
      "            name                                       dev  \\\n",
      "16823  7 SUNRISE  by Seven West Media - Digital Department   \n",
      "\n",
      "                      perm_requested_norm  year  \n",
      "16823  ['device country and postal code']  2021  \n"
     ]
    }
   ],
   "source": [
    "#exmple execution for 'SUNRISE__by Seven West Media - Digital Depa...', with id 1356\n",
    "findSkillById(1356, [df2019_selected, df2020_selected, df2021_selected], columnstoshow = ['name', 'dev', 'perm_requested_norm', 'year'])\n"
   ]
  },
  {
   "cell_type": "markdown",
   "metadata": {},
   "source": [
    "##### Evaluate difference between 2019 and 2020 over skill sets"
   ]
  },
  {
   "cell_type": "code",
   "execution_count": 106,
   "metadata": {},
   "outputs": [],
   "source": [
    "def evaluatediffbetweenyears(olddf, newdf):\n",
    "    newskills = 0\n",
    "    deletedskills = 0\n",
    "    skillsincreasedpermissionrequests = 0\n",
    "    skillsdecreasedpermissionrequests = 0\n",
    "    skillshavethesamepermissions = 0\n",
    "\n",
    "    pairdfs = [olddf, newdf]\n",
    "    for index, row in pairdfs[0].iterrows():\n",
    "        idskill = row['id']\n",
    "        permissions_requested_1 = row['perm_requested_norm']\n",
    "        permissions_requested_1 = permissions_requested_1.replace('[', '').replace(']', '').replace('\\'', '').split(',')\n",
    "\n",
    "        permissions_requested_2 = pairdfs[1][pairdfs[1]['id'] == idskill]    \n",
    "        if(permissions_requested_2 is not None and len(permissions_requested_2)>0):\n",
    "            permissions_requested_2 = permissions_requested_2['perm_requested_norm'].tolist()[0]    \n",
    "            permissions_requested_2 = permissions_requested_2.replace('[', '').replace(']', '').replace('\\'', '').split(',')\n",
    "\n",
    "            if(len(permissions_requested_1) > len(permissions_requested_2)):\n",
    "                skillsdecreasedpermissionrequests +=1\n",
    "            if(len(permissions_requested_2) > len(permissions_requested_1)):\n",
    "                skillsincreasedpermissionrequests +=1\n",
    "            if(len(permissions_requested_2) == len(permissions_requested_1)):\n",
    "                skillshavethesamepermissions +=1\n",
    "        else:\n",
    "            #if we don't find a skill in the new dataframe, that menas that the skill is either deleted \n",
    "            #or is no longer asking for more permissions\n",
    "            deletedskills +=1\n",
    "        \n",
    "        #\n",
    "        # uncomment this to print info\n",
    "        #\n",
    "        #print(idskill)\n",
    "        #print(permissions_requested_1)\n",
    "        #print(permissions_requested_2)\n",
    "        #print('newskills', newskills)\n",
    "        #print('deletedskills', deletedskills)\n",
    "        #print('skillsincreasedpermissionrequests', skillsincreasedpermissionrequests)\n",
    "        #print('skillsdecreasedpermissionrequests', skillsdecreasedpermissionrequests)\n",
    "        #print('skillshavethesamepermissions', skillshavethesamepermissions)\n",
    "\n",
    "\n",
    "    ids1 = pairdfs[0].id.unique().tolist()\n",
    "    ids2 = pairdfs[1].id.unique().tolist()\n",
    "    diffid2id1 = [k for k in ids2 if k not in ids1]    \n",
    "    newskills = len(diffid2id1)\n",
    "\n",
    "    print('>Newskills, skills that didnt exist before/didnt ask for permissions before, but now they do', newskills)\n",
    "    print('>Deletedskills, skills that asked for permissions before, but now they dont (either because they removed all permission requests)', deletedskills)\n",
    "    print('>Skills that request for more permissions (does not include new skills)', skillsincreasedpermissionrequests)\n",
    "    print('>Skills that request for less permissions (does not include removed skills)', skillsdecreasedpermissionrequests)\n",
    "    print('>Skills that request the same permissions', skillshavethesamepermissions)\n",
    "    \n",
    "    return [newskills, deletedskills, skillsincreasedpermissionrequests, skillsdecreasedpermissionrequests, skillshavethesamepermissions]"
   ]
  },
  {
   "cell_type": "code",
   "execution_count": 107,
   "metadata": {},
   "outputs": [
    {
     "name": "stdout",
     "output_type": "stream",
     "text": [
      ">Newskills, skills that didnt exist before/didnt ask for permissions before, but now they do 996\n",
      ">Deletedskills, skills that asked for permissions before, but now they dont (either because they removed all permission requests) 199\n",
      ">Skills that request for more permissions (does not include new skills) 14\n",
      ">Skills that request for less permissions (does not include removed skills) 3\n",
      ">Skills that request the same permissions 622\n"
     ]
    }
   ],
   "source": [
    "#compare 2019 with 2020\n",
    "ret = evaluatediffbetweenyears(df2019_selected, df2020_selected)"
   ]
  },
  {
   "cell_type": "code",
   "execution_count": 108,
   "metadata": {},
   "outputs": [
    {
     "name": "stdout",
     "output_type": "stream",
     "text": [
      ">Newskills, skills that didnt exist before/didnt ask for permissions before, but now they do 399\n",
      ">Deletedskills, skills that asked for permissions before, but now they dont (either because they removed all permission requests) 185\n",
      ">Skills that request for more permissions (does not include new skills) 7\n",
      ">Skills that request for less permissions (does not include removed skills) 7\n",
      ">Skills that request the same permissions 1436\n"
     ]
    }
   ],
   "source": [
    "#compare 2020 with 2021\n",
    "ret = evaluatediffbetweenyears(df2020_selected, df2021_selected)"
   ]
  },
  {
   "cell_type": "code",
   "execution_count": null,
   "metadata": {},
   "outputs": [],
   "source": []
  }
 ],
 "metadata": {
  "kernelspec": {
   "display_name": "Python 3",
   "language": "python",
   "name": "python3"
  },
  "language_info": {
   "codemirror_mode": {
    "name": "ipython",
    "version": 3
   },
   "file_extension": ".py",
   "mimetype": "text/x-python",
   "name": "python",
   "nbconvert_exporter": "python",
   "pygments_lexer": "ipython3",
   "version": "3.7.9"
  }
 },
 "nbformat": 4,
 "nbformat_minor": 2
}

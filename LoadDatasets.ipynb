{
 "cells": [
  {
   "cell_type": "code",
   "execution_count": 1,
   "metadata": {},
   "outputs": [],
   "source": [
    "import pandas as pd\n",
    "import matplotlib.pyplot as plt\n",
    "from collections import Counter"
   ]
  },
  {
   "cell_type": "markdown",
   "metadata": {},
   "source": [
    "# Load Datasets"
   ]
  },
  {
   "cell_type": "raw",
   "metadata": {},
   "source": [
    "This jupyter notebook contains examples on how to load/test the provided datasets for Alexa"
   ]
  },
  {
   "cell_type": "code",
   "execution_count": 2,
   "metadata": {},
   "outputs": [],
   "source": [
    "alldatasets = [\n",
    "    'datasets/DatasetsProcessedTraceability/DatasetsProcessedTraceability/2019_ids.csv',\n",
    "    'datasets/DatasetsProcessedTraceability/DatasetsProcessedTraceability/2020_ids.csv',\n",
    "    'datasets/DatasetsProcessedTraceability/DatasetsProcessedTraceability/2021_ids.csv',\n",
    "]"
   ]
  },
  {
   "cell_type": "markdown",
   "metadata": {},
   "source": [
    "## Load datasets"
   ]
  },
  {
   "cell_type": "code",
   "execution_count": 3,
   "metadata": {},
   "outputs": [
    {
     "name": "stderr",
     "output_type": "stream",
     "text": [
      "/Users/admin/anaconda3/lib/python3.7/site-packages/IPython/core/interactiveshell.py:3063: DtypeWarning: Columns (10,11) have mixed types.Specify dtype option on import or set low_memory=False.\n",
      "  interactivity=interactivity, compiler=compiler, result=result)\n",
      "/Users/admin/anaconda3/lib/python3.7/site-packages/IPython/core/interactiveshell.py:3063: DtypeWarning: Columns (11) have mixed types.Specify dtype option on import or set low_memory=False.\n",
      "  interactivity=interactivity, compiler=compiler, result=result)\n"
     ]
    }
   ],
   "source": [
    "df2019 = pd.read_csv(alldatasets[0])\n",
    "df2020 = pd.read_csv(alldatasets[1])\n",
    "df2021 = pd.read_csv(alldatasets[2])"
   ]
  },
  {
   "cell_type": "code",
   "execution_count": 4,
   "metadata": {},
   "outputs": [
    {
     "data": {
      "text/plain": [
       "Index(['Unnamed: 0', 'Unnamed: 0.1', 'id_name_dev', 'id_aux', 'id', 'name',\n",
       "       'dev', 'cat', 'market', 'subcat', 'acc_linking', 'in_skill_purchase',\n",
       "       'cost', 'review_stars', 'skill_link', 'perm_requested_original', 'year',\n",
       "       'perm_found_norm', 'perm_requested_norm', 'policy_url', 'policy_text',\n",
       "       'traceability'],\n",
       "      dtype='object')"
      ]
     },
     "execution_count": 4,
     "metadata": {},
     "output_type": "execute_result"
    }
   ],
   "source": [
    "df2019.columns"
   ]
  },
  {
   "cell_type": "markdown",
   "metadata": {},
   "source": [
    "### Examples"
   ]
  },
  {
   "cell_type": "markdown",
   "metadata": {},
   "source": [
    "#### Total number of skills in 2019"
   ]
  },
  {
   "cell_type": "code",
   "execution_count": 5,
   "metadata": {},
   "outputs": [
    {
     "name": "stdout",
     "output_type": "stream",
     "text": [
      "23123 unique skills found in AU\n",
      "24700 unique skills found in CA\n",
      "8928 unique skills found in DE\n",
      "1286 unique skills found in ES\n",
      "1341 unique skills found in FR\n",
      "20989 unique skills found in IN\n",
      "2210 unique skills found in IT\n",
      "2679 unique skills found in JP\n",
      "897 unique skills found in MX\n",
      "29094 unique skills found in UK\n",
      "51338 unique skills found in US\n"
     ]
    }
   ],
   "source": [
    "allmarkets = df2019.market.unique()\n",
    "for mk in allmarkets:\n",
    "    print('{} unique skills found in {}'.format(len(df2019.loc[df2019['market'] == mk] ), mk))"
   ]
  },
  {
   "cell_type": "markdown",
   "metadata": {},
   "source": [
    "#### Check how many skills have a policy over the years"
   ]
  },
  {
   "cell_type": "code",
   "execution_count": 6,
   "metadata": {},
   "outputs": [
    {
     "name": "stdout",
     "output_type": "stream",
     "text": [
      "120 unique skills have a policy in AU\n",
      "158 unique skills have a policy in CA\n",
      "0 unique skills have a policy in DE\n",
      "0 unique skills have a policy in ES\n",
      "0 unique skills have a policy in FR\n",
      "111 unique skills have a policy in IN\n",
      "0 unique skills have a policy in IT\n",
      "0 unique skills have a policy in JP\n",
      "0 unique skills have a policy in MX\n",
      "287 unique skills have a policy in UK\n",
      "658 unique skills have a policy in US\n"
     ]
    }
   ],
   "source": [
    "#permission requested normalised\n",
    "allmarkets = df2019.market.unique()\n",
    "for mk in allmarkets:\n",
    "    auxdf = df2019.loc[ (df2019['market']==mk) & (df2019['perm_requested_norm'].notnull())]\n",
    "    print('{} unique skills have a policy in {}'.format(len(auxdf), mk))"
   ]
  },
  {
   "cell_type": "code",
   "execution_count": 7,
   "metadata": {},
   "outputs": [
    {
     "name": "stdout",
     "output_type": "stream",
     "text": [
      "150 unique skills have a policy in AU\n",
      "197 unique skills have a policy in CA\n",
      "256 unique skills have a policy in DE\n",
      "42 unique skills have a policy in ES\n",
      "29 unique skills have a policy in FR\n",
      "158 unique skills have a policy in IN\n",
      "25 unique skills have a policy in IT\n",
      "74 unique skills have a policy in JP\n",
      "29 unique skills have a policy in MX\n",
      "351 unique skills have a policy in UK\n",
      "798 unique skills have a policy in US\n"
     ]
    }
   ],
   "source": [
    "#permission requested original\n",
    "allmarkets = df2019.market.unique()\n",
    "for mk in allmarkets:\n",
    "    auxdf = df2019.loc[ (df2019['market']==mk) & (df2019['perm_requested_original'].notnull())]\n",
    "    print('{} unique skills have a policy in {}'.format(len(auxdf), mk))"
   ]
  },
  {
   "cell_type": "code",
   "execution_count": 8,
   "metadata": {},
   "outputs": [
    {
     "name": "stdout",
     "output_type": "stream",
     "text": [
      "212 unique skills have a policy in AU\n",
      "251 unique skills have a policy in CA\n",
      "0 unique skills have a policy in DE\n",
      "0 unique skills have a policy in ES\n",
      "0 unique skills have a policy in FR\n",
      "270 unique skills have a policy in IN\n",
      "0 unique skills have a policy in IT\n",
      "0 unique skills have a policy in JP\n",
      "0 unique skills have a policy in MX\n",
      "441 unique skills have a policy in UK\n",
      "1301 unique skills have a policy in US\n"
     ]
    }
   ],
   "source": [
    "allmarkets = df2020.market.unique()\n",
    "for mk in allmarkets:\n",
    "    auxdf = df2020.loc[ (df2020['market']==mk) & (df2020['perm_requested_norm'].notnull())]\n",
    "    print('{} unique skills have a policy in {}'.format(len(auxdf), mk))"
   ]
  },
  {
   "cell_type": "code",
   "execution_count": 9,
   "metadata": {},
   "outputs": [
    {
     "name": "stdout",
     "output_type": "stream",
     "text": [
      "235 unique skills have a policy in AU\n",
      "250 unique skills have a policy in CA\n",
      "40 unique skills have a policy in DE\n",
      "0 unique skills have a policy in ES\n",
      "0 unique skills have a policy in FR\n",
      "243 unique skills have a policy in IN\n",
      "0 unique skills have a policy in IT\n",
      "0 unique skills have a policy in JP\n",
      "0 unique skills have a policy in MX\n",
      "461 unique skills have a policy in UK\n",
      "1522 unique skills have a policy in US\n"
     ]
    }
   ],
   "source": [
    "allmarkets = df2021.market.unique()\n",
    "for mk in allmarkets:\n",
    "    auxdf = df2021.loc[ (df2021['market']==mk) & (df2021['perm_requested_norm'].notnull())]\n",
    "    print('{} unique skills have a policy in {}'.format(len(auxdf), mk))"
   ]
  },
  {
   "cell_type": "markdown",
   "metadata": {},
   "source": [
    "#### Number of developers per market in 2019"
   ]
  },
  {
   "cell_type": "code",
   "execution_count": 10,
   "metadata": {},
   "outputs": [
    {
     "name": "stdout",
     "output_type": "stream",
     "text": [
      "10123 unique devs in AU\n",
      "10773 unique devs in CA\n",
      "3165 unique devs in DE\n",
      "716 unique devs in ES\n",
      "641 unique devs in FR\n",
      "9197 unique devs in IN\n",
      "1095 unique devs in IT\n",
      "1056 unique devs in JP\n",
      "540 unique devs in MX\n",
      "12078 unique devs in UK\n",
      "19507 unique devs in US\n"
     ]
    }
   ],
   "source": [
    "allmarkets = df2019.market.unique()\n",
    "for mk in allmarkets:\n",
    "    marketdf = df2019.loc[df2019['market'] == mk]\n",
    "    alldevs = marketdf.dev.unique()\n",
    "    print('{} unique devs in {}'.format(len(alldevs), mk))"
   ]
  },
  {
   "cell_type": "markdown",
   "metadata": {},
   "source": [
    "#### check how many skills have the same name__dev in 2021"
   ]
  },
  {
   "cell_type": "code",
   "execution_count": 11,
   "metadata": {},
   "outputs": [
    {
     "name": "stdout",
     "output_type": "stream",
     "text": [
      "AU market, 24228 unique id__dev, 24512 total entries\n",
      "CA market, 26763 unique id__dev, 27093 total entries\n",
      "DE market, 10593 unique id__dev, 10631 total entries\n",
      "ES market, 5419 unique id__dev, 5435 total entries\n",
      "FR market, 2835 unique id__dev, 2863 total entries\n",
      "IN market, 28221 unique id__dev, 28672 total entries\n",
      "IT market, 4640 unique id__dev, 4649 total entries\n",
      "JP market, 3623 unique id__dev, 3637 total entries\n",
      "MX market, 2484 unique id__dev, 2486 total entries\n",
      "UK market, 36698 unique id__dev, 37056 total entries\n",
      "US market, 68157 unique id__dev, 68667 total entries\n"
     ]
    }
   ],
   "source": [
    "allmarkets = df2021.market.unique()\n",
    "for mk in allmarkets:\n",
    "    marketdf = df2021.loc[df2021['market'] == mk]\n",
    "    print('{} market, {} unique id__dev, {} total entries'.format(mk, len(marketdf.id_name_dev.unique()), len(marketdf) ))\n",
    "   "
   ]
  },
  {
   "cell_type": "markdown",
   "metadata": {},
   "source": [
    "#### check if permissions are correctly mapped for all datasets"
   ]
  },
  {
   "cell_type": "code",
   "execution_count": 12,
   "metadata": {},
   "outputs": [
    {
     "name": "stdout",
     "output_type": "stream",
     "text": [
      "            name          dev market                 perm_requested_norm  \\\n",
      "741     Stitcher  by Stitcher     AU  ['device country and postal code']   \n",
      "23486   Stitcher  by Stitcher     CA  ['device country and postal code']   \n",
      "76032   Stitcher  by Stitcher     IN  ['device country and postal code']   \n",
      "88152   Stitcher  by Stitcher     UK  ['device country and postal code']   \n",
      "116194  Stitcher  by Stitcher     US  ['device country and postal code']   \n",
      "\n",
      "        year   id  \n",
      "741     2019  742  \n",
      "23486   2019  742  \n",
      "76032   2019  742  \n",
      "88152   2019  742  \n",
      "116194  2019  742  \n"
     ]
    }
   ],
   "source": [
    "print( df2019[df2019['name']=='Stitcher'][['name', 'dev', 'market', 'perm_requested_norm', 'year', 'id']] )"
   ]
  },
  {
   "cell_type": "code",
   "execution_count": 13,
   "metadata": {},
   "outputs": [
    {
     "name": "stdout",
     "output_type": "stream",
     "text": [
      "            name          dev market                 perm_requested_norm  \\\n",
      "41308   Stitcher  by Stitcher     CA  ['device country and postal code']   \n",
      "131165  Stitcher  by Stitcher     UK  ['device country and postal code']   \n",
      "177055  Stitcher  by Stitcher     US  ['device country and postal code']   \n",
      "\n",
      "        year   id  \n",
      "41308   2020  742  \n",
      "131165  2020  742  \n",
      "177055  2020  742  \n"
     ]
    }
   ],
   "source": [
    "print( df2020[df2020['name']=='Stitcher'][['name', 'dev', 'market', 'perm_requested_norm', 'year', 'id']] )"
   ]
  },
  {
   "cell_type": "code",
   "execution_count": 14,
   "metadata": {},
   "outputs": [
    {
     "name": "stdout",
     "output_type": "stream",
     "text": [
      "            name          dev market                 perm_requested_norm  \\\n",
      "93991   Stitcher  by Stitcher     IN  ['device country and postal code']   \n",
      "131778  Stitcher  by Stitcher     UK  ['device country and postal code']   \n",
      "172109  Stitcher  by Stitcher     US  ['device country and postal code']   \n",
      "\n",
      "        year   id  \n",
      "93991   2021  742  \n",
      "131778  2021  742  \n",
      "172109  2021  742  \n"
     ]
    }
   ],
   "source": [
    "print( df2021[df2021['name']=='Stitcher'][['name', 'dev', 'market', 'perm_requested_norm', 'year', 'id']] )"
   ]
  },
  {
   "cell_type": "markdown",
   "metadata": {},
   "source": [
    "##### check number of unique skills with policy among markets"
   ]
  },
  {
   "cell_type": "code",
   "execution_count": 15,
   "metadata": {},
   "outputs": [
    {
     "name": "stdout",
     "output_type": "stream",
     "text": [
      "Unique skills with at least one permission 2019 1429\n"
     ]
    }
   ],
   "source": [
    "#number of unique skills (skillname_dev) that requested for one or more permissions in 2019\n",
    "df2019_selected = df2019.loc[ (df2019['perm_requested_original'].notnull()) ]\n",
    "df2019_selected = df2019_selected.drop_duplicates(subset='id_name_dev', keep=\"last\")\n",
    "df2019_selected = df2019_selected.drop(['market'], axis = 1)\n",
    "print('Unique skills with at least one permission 2019', len(df2019_selected))"
   ]
  },
  {
   "cell_type": "markdown",
   "metadata": {},
   "source": [
    "#### check how skills with policy change over the years"
   ]
  },
  {
   "cell_type": "code",
   "execution_count": 16,
   "metadata": {},
   "outputs": [
    {
     "data": {
      "text/plain": [
       "Index(['Unnamed: 0', 'Unnamed: 0.1', 'id_name_dev', 'id_aux', 'id', 'name',\n",
       "       'dev', 'cat', 'market', 'subcat', 'acc_linking', 'in_skill_purchase',\n",
       "       'cost', 'review_stars', 'skill_link', 'perm_requested_original', 'year',\n",
       "       'perm_found_norm', 'perm_requested_norm', 'policy_url', 'policy_text',\n",
       "       'traceability'],\n",
       "      dtype='object')"
      ]
     },
     "execution_count": 16,
     "metadata": {},
     "output_type": "execute_result"
    }
   ],
   "source": [
    "df2019.columns"
   ]
  },
  {
   "cell_type": "code",
   "execution_count": 17,
   "metadata": {},
   "outputs": [],
   "source": [
    "def findSkillById(skillid, dataframes, columnstoshow = ['name', 'dev']):\n",
    "    '''\n",
    "    skillid : int, representing skill id\n",
    "    dataframes : list of dataframes to check\n",
    "    '''\n",
    "    for df in dataframes:\n",
    "        print(df[df['id']==skillid][columnstoshow])\n",
    "    \n",
    "    "
   ]
  },
  {
   "cell_type": "code",
   "execution_count": 18,
   "metadata": {},
   "outputs": [
    {
     "name": "stdout",
     "output_type": "stream",
     "text": [
      "Unique skills with at least one permission 2019 838\n",
      "Unique skills with at least one permission 2020 1635\n",
      "Unique skills with at least one permission 2021 1849\n"
     ]
    }
   ],
   "source": [
    "#first preselect the interesting markets and only these skills that have permissions\n",
    "df2019_selected = df2019.loc[ (df2019['market'].isin(['US', 'UK', 'CA', 'AU', 'IN'])) & (df2019['perm_requested_norm'].notnull()) ]\n",
    "df2019_selected = df2019_selected.drop_duplicates(subset='id_name_dev', keep=\"last\")\n",
    "df2019_selected = df2019_selected.drop(['market'], axis = 1)\n",
    "print('Unique skills with at least one permission 2019', len(df2019_selected))\n",
    "\n",
    "df2020_selected = df2020.loc[ (df2020['market'].isin(['US', 'UK', 'CA', 'AU', 'IN'])) & (df2020['perm_requested_norm'].notnull()) ]\n",
    "df2020_selected = df2020_selected.drop_duplicates(subset='id_name_dev', keep=\"last\")\n",
    "df2020_selected = df2020_selected.drop(['market'], axis = 1)\n",
    "print('Unique skills with at least one permission 2020', len(df2020_selected))\n",
    "\n",
    "df2021_selected = df2021.loc[ (df2021['market'].isin(['US', 'UK', 'CA', 'AU', 'IN'])) & (df2021['perm_requested_norm'].notnull()) ]\n",
    "df2021_selected = df2021_selected.drop_duplicates(subset='id_name_dev', keep=\"last\")\n",
    "df2021_selected = df2021_selected.drop(['market'], axis = 1)\n",
    "print('Unique skills with at least one permission 2021', len(df2021_selected))"
   ]
  },
  {
   "cell_type": "code",
   "execution_count": 19,
   "metadata": {},
   "outputs": [
    {
     "name": "stdout",
     "output_type": "stream",
     "text": [
      "           name                                       dev  \\\n",
      "1355  7 SUNRISE  by Seven West Media - Digital Department   \n",
      "\n",
      "                     perm_requested_norm  year  \n",
      "1355  ['device country and postal code']  2019  \n",
      "            name                                       dev  \\\n",
      "19344  7 SUNRISE  by Seven West Media - Digital Department   \n",
      "\n",
      "                      perm_requested_norm  year  \n",
      "19344  ['device country and postal code']  2020  \n",
      "            name                                       dev  \\\n",
      "16823  7 SUNRISE  by Seven West Media - Digital Department   \n",
      "\n",
      "                      perm_requested_norm  year  \n",
      "16823  ['device country and postal code']  2021  \n"
     ]
    }
   ],
   "source": [
    "#exmple execution for 'SUNRISE__by Seven West Media - Digital Depa...', with id 1356\n",
    "findSkillById(1356, [df2019_selected, df2020_selected, df2021_selected], columnstoshow = ['name', 'dev', 'perm_requested_norm', 'year'])\n"
   ]
  },
  {
   "cell_type": "markdown",
   "metadata": {},
   "source": [
    "##### Evaluate difference between 2019 and 2020 over skill sets"
   ]
  },
  {
   "cell_type": "code",
   "execution_count": 20,
   "metadata": {},
   "outputs": [],
   "source": [
    "def evaluatediffbetweenyears(olddf, newdf):\n",
    "    newskills = []\n",
    "    deletedskills = []\n",
    "    skillsincreasedpermissionrequests = []\n",
    "    skillsdecreasedpermissionrequests = []\n",
    "    skillshavethesamepermissions = []\n",
    "\n",
    "    pairdfs = [olddf, newdf]\n",
    "    for index, row in pairdfs[0].iterrows():\n",
    "        idskill = row['id']\n",
    "        permissions_requested_1 = row['perm_requested_norm']\n",
    "        permissions_requested_1 = permissions_requested_1.replace('[', '').replace(']', '').replace('\\'', '').split(',')\n",
    "\n",
    "        permissions_requested_2 = pairdfs[1][pairdfs[1]['id'] == idskill]    \n",
    "        if(permissions_requested_2 is not None and len(permissions_requested_2)>0):\n",
    "            permissions_requested_2 = permissions_requested_2['perm_requested_norm'].tolist()[0]    \n",
    "            permissions_requested_2 = permissions_requested_2.replace('[', '').replace(']', '').replace('\\'', '').split(',')\n",
    "\n",
    "            if(len(permissions_requested_1) > len(permissions_requested_2)):\n",
    "                skillsdecreasedpermissionrequests.append(idskill)\n",
    "            if(len(permissions_requested_2) > len(permissions_requested_1)):\n",
    "                skillsincreasedpermissionrequests.append(idskill)\n",
    "            if(len(permissions_requested_2) == len(permissions_requested_1)):\n",
    "                skillshavethesamepermissions.append(idskill)\n",
    "        else:\n",
    "            #if we don't find a skill in the new dataframe, that menas that the skill is either deleted \n",
    "            #or is no longer asking for more permissions\n",
    "            deletedskills.append(idskill)\n",
    "        \n",
    "        #\n",
    "        # uncomment this to print info\n",
    "        #\n",
    "        #print(idskill)\n",
    "        #print(permissions_requested_1)\n",
    "        #print(permissions_requested_2)\n",
    "        #print('newskills', newskills)\n",
    "        #print('deletedskills', deletedskills)\n",
    "        #print('skillsincreasedpermissionrequests', skillsincreasedpermissionrequests)\n",
    "        #print('skillsdecreasedpermissionrequests', skillsdecreasedpermissionrequests)\n",
    "        #print('skillshavethesamepermissions', skillshavethesamepermissions)\n",
    "\n",
    "\n",
    "    ids1 = pairdfs[0].id.unique().tolist()\n",
    "    ids2 = pairdfs[1].id.unique().tolist()\n",
    "    diffid2id1 = [k for k in ids2 if k not in ids1]    \n",
    "    newskills = diffid2id1\n",
    "\n",
    "    print('>Newskills, skills that didnt exist before/didnt ask for permissions before, but now they do', len(newskills))\n",
    "    print('>Deletedskills, skills that asked for permissions before, but now they dont (either because they removed all permission requests)', len(deletedskills))\n",
    "    print('>Skills that request for more permissions (does not include new skills)', len(skillsincreasedpermissionrequests))\n",
    "    print('>Skills that request for less permissions (does not include removed skills)', len(skillsdecreasedpermissionrequests))\n",
    "    print('>Skills that request the same permissions', len(skillshavethesamepermissions))\n",
    "    \n",
    "    return [newskills, deletedskills, skillsincreasedpermissionrequests, skillsdecreasedpermissionrequests, skillshavethesamepermissions]"
   ]
  },
  {
   "cell_type": "code",
   "execution_count": 21,
   "metadata": {},
   "outputs": [
    {
     "name": "stdout",
     "output_type": "stream",
     "text": [
      ">Newskills, skills that didnt exist before/didnt ask for permissions before, but now they do 996\n",
      ">Deletedskills, skills that asked for permissions before, but now they dont (either because they removed all permission requests) 199\n",
      ">Skills that request for more permissions (does not include new skills) 14\n",
      ">Skills that request for less permissions (does not include removed skills) 3\n",
      ">Skills that request the same permissions 622\n"
     ]
    }
   ],
   "source": [
    "#compare 2019 with 2020\n",
    "ret1 = evaluatediffbetweenyears(df2019_selected, df2020_selected)"
   ]
  },
  {
   "cell_type": "markdown",
   "metadata": {},
   "source": [
    "# New Skills Traceability Attributes from 2019 to 2020 "
   ]
  },
  {
   "cell_type": "code",
   "execution_count": 22,
   "metadata": {},
   "outputs": [
    {
     "data": {
      "text/plain": [
       "traceability\n",
       "B    364\n",
       "C    518\n",
       "P    114\n",
       "Name: id_name_dev, dtype: int64"
      ]
     },
     "execution_count": 22,
     "metadata": {},
     "output_type": "execute_result"
    }
   ],
   "source": [
    "NewSkillId = ret1[0]\n",
    "NewSkill2020 = df2020[df2020.id.isin(NewSkillId)].drop_duplicates(subset=['id_name_dev'])\n",
    "ATNewSkill2020 = NewSkill2020.groupby('traceability')['id_name_dev'].nunique()\n",
    "ATNewSkill2020"
   ]
  },
  {
   "cell_type": "code",
   "execution_count": 23,
   "metadata": {},
   "outputs": [
    {
     "name": "stdout",
     "output_type": "stream",
     "text": [
      ">Newskills, skills that didnt exist before/didnt ask for permissions before, but now they do 399\n",
      ">Deletedskills, skills that asked for permissions before, but now they dont (either because they removed all permission requests) 185\n",
      ">Skills that request for more permissions (does not include new skills) 7\n",
      ">Skills that request for less permissions (does not include removed skills) 7\n",
      ">Skills that request the same permissions 1436\n"
     ]
    }
   ],
   "source": [
    "#compare 2020 with 2021\n",
    "ret2 = evaluatediffbetweenyears(df2020_selected, df2021_selected)"
   ]
  },
  {
   "cell_type": "markdown",
   "metadata": {},
   "source": [
    "# New Skills Traceability Attributes from 2020 to 2019"
   ]
  },
  {
   "cell_type": "code",
   "execution_count": 24,
   "metadata": {},
   "outputs": [
    {
     "data": {
      "text/plain": [
       "traceability\n",
       "B     76\n",
       "C    256\n",
       "P     67\n",
       "Name: id_name_dev, dtype: int64"
      ]
     },
     "execution_count": 24,
     "metadata": {},
     "output_type": "execute_result"
    }
   ],
   "source": [
    "NewSkillId = ret2[0]\n",
    "NewSkill2021 = df2021[df2021.id.isin(NewSkillId)].drop_duplicates(subset=['id_name_dev'])\n",
    "ATNewSkill2021 = NewSkill2021.groupby('traceability')['id_name_dev'].nunique()\n",
    "ATNewSkill2021"
   ]
  },
  {
   "cell_type": "markdown",
   "metadata": {},
   "source": [
    "# Plotting Both New Skills Traceability across Years"
   ]
  },
  {
   "cell_type": "code",
   "execution_count": 25,
   "metadata": {},
   "outputs": [
    {
     "data": {
      "image/png": "[encoded data removed]",
      "text/plain": [
       "<Figure size 432x360 with 1 Axes>"
      ]
     },
     "metadata": {
      "needs_background": "light"
     },
     "output_type": "display_data"
    }
   ],
   "source": [
    "%matplotlib inline\n",
    "\n",
    "plt.rc('xtick', labelsize=12) \n",
    "plt.rc('ytick', labelsize=12) \n",
    "\n",
    "\n",
    "plotdata = pd.DataFrame({'Broken':[ATNewSkill2020[0],ATNewSkill2021[0]], 'Partial':[ATNewSkill2020[2],ATNewSkill2021[2]], \n",
    "                         'Complete':[ATNewSkill2020[1],ATNewSkill2021[1]]}, index = ['2019-2020','2020-2021'])\n",
    "\n",
    "ax = plotdata.plot(kind = 'bar',width = 0.8, figsize =(6,5))\n",
    "\n",
    "for p in ax.patches:\n",
    "    ax.annotate(str(p.get_height()), (p.get_x() * 1.005, p.get_height() * 1.005))\n",
    "\n",
    "plt.tight_layout()\n",
    "\n",
    "plt.xlabel('Year Range', fontsize = 12)\n",
    "plt.ylabel('Number of New Skills', fontsize = 12)\n",
    "plt.xticks(rotation=0)\n",
    "\n",
    "plt.savefig('NewSkillsTrace.pdf',bbox_inches='tight')"
   ]
  },
  {
   "cell_type": "markdown",
   "metadata": {},
   "source": [
    "# **Checking the status of Traceability between years**"
   ]
  },
  {
   "cell_type": "code",
   "execution_count": 26,
   "metadata": {
    "scrolled": false
   },
   "outputs": [],
   "source": [
    "def ChangesInTraceability(dfYearNew, dfYearOld):\n",
    "    \n",
    "    Broken_Skills = dfYearOld.groupby('traceability')['id_name_dev'].unique()[0]\n",
    "    print('Total Number of Broken traceability in previous year : {}' .format(len(Broken_Skills)))\n",
    "    status2020 = dfYearNew[dfYearNew['id_name_dev'].isin(Broken_Skills)].drop_duplicates(subset='id_name_dev')\n",
    "    print('Total Number of skills that are still in new year : {}' .format(len(status2020)))\n",
    "    skills_without_perm = len(status2020) - sum(status2020.traceability.value_counts())\n",
    "    print('New Status below:')\n",
    "    skills_removed = len(Broken_Skills) - len(status2020)\n",
    "    print('Skills Removed: {}'.format(skills_removed))\n",
    "    print('Permissions Removed: {}'.format(skills_without_perm))\n",
    "    print(status2020.traceability.value_counts())\n",
    "  \n",
    "\n",
    "    #Complete Analysis\n",
    "    Complete_Skills = dfYearOld.groupby('traceability')['id_name_dev'].unique()[1]\n",
    "    print('\\nTotal Number of Complete traceability in previous year : {}' .format(len(Complete_Skills)))\n",
    "    status2020 = dfYearNew[dfYearNew['id_name_dev'].isin(Complete_Skills)].drop_duplicates(subset='id_name_dev')\n",
    "    print('Total Number of skills that are still in new year : {}'.format(len(status2020)))\n",
    "    skills_without_perm = len(status2020) - sum(status2020.traceability.value_counts())\n",
    "    print('New Status below:')\n",
    "    skills_removed = len(Complete_Skills) - len(status2020)\n",
    "    print('Skills Removed: {}'.format(skills_removed))\n",
    "    print('Permissions Removed: {}'.format(skills_without_perm))\n",
    "    print(status2020.traceability.value_counts())\n",
    "\n",
    "    \n",
    "    #Partial Analysis\n",
    "    Partial_Skills = dfYearOld.groupby('traceability')['id_name_dev'].unique()[2]\n",
    "    print('\\nTotal Number of Partial traceability in previous year : {}' .format(len(Partial_Skills)))\n",
    "    status2020 = dfYearNew[dfYearNew['id_name_dev'].isin(Partial_Skills)].drop_duplicates(subset='id_name_dev')\n",
    "    print('Total Number of skills that are still in new year : {}' .format(len(status2020)))\n",
    "    skills_without_perm = len(status2020) - sum(status2020.traceability.value_counts())\n",
    "    print('New Status below:')\n",
    "    skills_removed = len(Partial_Skills) - len(status2020)\n",
    "    print('Skills Removed: {}'.format(skills_removed))\n",
    "    print('Permissions Removed: {}'.format(skills_without_perm))\n",
    "    print(status2020.traceability.value_counts())\n",
    "    \n",
    "    return True\n",
    "    "
   ]
  },
  {
   "cell_type": "markdown",
   "metadata": {},
   "source": [
    "# **Checking the status of Traceability Differences between 2019 and 2020**"
   ]
  },
  {
   "cell_type": "code",
   "execution_count": 27,
   "metadata": {},
   "outputs": [
    {
     "name": "stdout",
     "output_type": "stream",
     "text": [
      "Total Number of Broken traceability in previous year : 302\n",
      "Total Number of skills that are still in new year : 212\n",
      "New Status below:\n",
      "Skills Removed: 90\n",
      "Permissions Removed: 5\n",
      "B    199\n",
      "C      6\n",
      "P      2\n",
      "Name: traceability, dtype: int64\n",
      "\n",
      "Total Number of Complete traceability in previous year : 447\n",
      "Total Number of skills that are still in new year : 360\n",
      "New Status below:\n",
      "Skills Removed: 87\n",
      "Permissions Removed: 3\n",
      "C    275\n",
      "B     80\n",
      "P      2\n",
      "Name: traceability, dtype: int64\n",
      "\n",
      "Total Number of Partial traceability in previous year : 89\n",
      "Total Number of skills that are still in new year : 76\n",
      "New Status below:\n",
      "Skills Removed: 13\n",
      "Permissions Removed: 1\n",
      "P    58\n",
      "B    16\n",
      "C     1\n",
      "Name: traceability, dtype: int64\n"
     ]
    },
    {
     "data": {
      "text/plain": [
       "True"
      ]
     },
     "execution_count": 27,
     "metadata": {},
     "output_type": "execute_result"
    }
   ],
   "source": [
    "ChangesInTraceability(df2020, df2019)"
   ]
  },
  {
   "cell_type": "markdown",
   "metadata": {},
   "source": [
    "# **Checking the status of Traceability Differences between 2020 and 2021**"
   ]
  },
  {
   "cell_type": "code",
   "execution_count": 28,
   "metadata": {},
   "outputs": [
    {
     "name": "stdout",
     "output_type": "stream",
     "text": [
      "Total Number of Broken traceability in previous year : 659\n",
      "Total Number of skills that are still in new year : 572\n",
      "New Status below:\n",
      "Skills Removed: 87\n",
      "Permissions Removed: 57\n",
      "B    315\n",
      "C    162\n",
      "P     38\n",
      "Name: traceability, dtype: int64\n",
      "\n",
      "Total Number of Complete traceability in previous year : 800\n",
      "Total Number of skills that are still in new year : 773\n",
      "New Status below:\n",
      "Skills Removed: 27\n",
      "Permissions Removed: 3\n",
      "C    763\n",
      "B      5\n",
      "P      2\n",
      "Name: traceability, dtype: int64\n",
      "\n",
      "Total Number of Partial traceability in previous year : 176\n",
      "Total Number of skills that are still in new year : 165\n",
      "New Status below:\n",
      "Skills Removed: 11\n",
      "Permissions Removed: 0\n",
      "P    163\n",
      "C      2\n",
      "Name: traceability, dtype: int64\n"
     ]
    },
    {
     "data": {
      "text/plain": [
       "True"
      ]
     },
     "execution_count": 28,
     "metadata": {},
     "output_type": "execute_result"
    }
   ],
   "source": [
    "ChangesInTraceability(df2021, df2020)"
   ]
  },
  {
   "cell_type": "markdown",
   "metadata": {},
   "source": [
    "# Traceability Type Per Year"
   ]
  },
  {
   "cell_type": "code",
   "execution_count": 29,
   "metadata": {
    "scrolled": true
   },
   "outputs": [
    {
     "name": "stdout",
     "output_type": "stream",
     "text": [
      "Tracebility count for 2019\n",
      "\n",
      " traceability\n",
      "B    302\n",
      "C    447\n",
      "P     89\n",
      "Name: id_name_dev, dtype: int64\n",
      "\n",
      "Tracebility count for 2020\n",
      " traceability\n",
      "B    659\n",
      "C    800\n",
      "P    176\n",
      "Name: id_name_dev, dtype: int64\n",
      "\n",
      "Tracebility count for 2021\n",
      " traceability\n",
      "B     396\n",
      "C    1183\n",
      "P     270\n",
      "Name: id_name_dev, dtype: int64\n"
     ]
    }
   ],
   "source": [
    "print('Tracebility count for 2019\\n\\n',df2019.groupby('traceability')['id_name_dev'].nunique()) #same as df2019_selected.traceability.value_counts()\n",
    "print('\\nTracebility count for 2020\\n',df2020.groupby('traceability')['id_name_dev'].nunique())\n",
    "print('\\nTracebility count for 2021\\n',df2021.groupby('traceability')['id_name_dev'].nunique())"
   ]
  },
  {
   "cell_type": "markdown",
   "metadata": {},
   "source": [
    "# Reported Skills to Amazon and Developers"
   ]
  },
  {
   "cell_type": "code",
   "execution_count": 30,
   "metadata": {},
   "outputs": [
    {
     "data": {
      "text/plain": [
       "traceability\n",
       "B    217\n",
       "C    264\n",
       "P    123\n",
       "Name: name, dtype: int64"
      ]
     },
     "execution_count": 30,
     "metadata": {},
     "output_type": "execute_result"
    }
   ],
   "source": [
    "dfreportSkill = pd.read_csv('combinereport.csv')\n",
    "#dfreportSkill = dfreportSkill[dfreportSkill['Contact_info'].str.contains('@', case=False, na=False)]\n",
    "reported_Skills = dfreportSkill['Skill Name'].unique()\n",
    "reportedExisting = df2021[df2021.name.isin(reported_Skills)].drop_duplicates(subset=['id_name_dev'], keep='last')\n",
    "reportedExisting.groupby('traceability')['name'].nunique()"
   ]
  },
  {
   "cell_type": "code",
   "execution_count": 31,
   "metadata": {},
   "outputs": [],
   "source": [
    "def ChangesInTraceability_skillname(dfYearNew, dfYearOld):\n",
    "    \n",
    "    Broken_Skills = dfYearOld.groupby('traceability')['Skill Name'].unique()[0]\n",
    "    print('Total Number of Broken traceability in previous year : {}' .format(len(Broken_Skills)))\n",
    "    status2020 = dfYearNew[dfYearNew['name'].isin(Broken_Skills)].drop_duplicates(subset='name')\n",
    "    print('Total Number of skills that are still in new year : {}' .format(len(status2020)))\n",
    "    skills_without_perm = len(status2020) - sum(status2020.traceability.value_counts())\n",
    "    print('New Status below:')\n",
    "    skills_removed = len(Broken_Skills) - len(status2020)\n",
    "    print('Skills Removed: {}'.format(skills_removed))\n",
    "    print('Permissions Removed: {}'.format(skills_without_perm))\n",
    "    print(status2020.traceability.value_counts())\n",
    "  \n",
    "\n",
    "    #Partial Analysis\n",
    "    Partial_Skills = dfYearOld.groupby('traceability')['Skill Name'].unique()[1]\n",
    "    print('\\nTotal Number of Partial traceability in previous year : {}' .format(len(Partial_Skills)))\n",
    "    status2020 = dfYearNew[dfYearNew['name'].isin(Partial_Skills)].drop_duplicates(subset='name')\n",
    "    print('Total Number of skills that are still in new year : {}' .format(len(status2020)))\n",
    "    skills_without_perm = len(status2020) - sum(status2020.traceability.value_counts())\n",
    "    print('New Status below:')\n",
    "    skills_removed = len(Partial_Skills) - len(status2020)\n",
    "    print('Skills Removed: {}'.format(skills_removed))\n",
    "    print('Permissions Removed: {}'.format(skills_without_perm))\n",
    "    print(status2020.traceability.value_counts())\n",
    "    \n",
    "    return True"
   ]
  },
  {
   "cell_type": "code",
   "execution_count": 32,
   "metadata": {},
   "outputs": [
    {
     "name": "stdout",
     "output_type": "stream",
     "text": [
      "Total Number of Broken traceability in previous year : 246\n",
      "Total Number of skills that are still in new year : 201\n",
      "New Status below:\n",
      "Skills Removed: 45\n",
      "Permissions Removed: 24\n",
      "B    107\n",
      "C     41\n",
      "P     29\n",
      "Name: traceability, dtype: int64\n",
      "\n",
      "Total Number of Partial traceability in previous year : 429\n",
      "Total Number of skills that are still in new year : 410\n",
      "New Status below:\n",
      "Skills Removed: 19\n",
      "Permissions Removed: 16\n",
      "C    211\n",
      "B     99\n",
      "P     84\n",
      "Name: traceability, dtype: int64\n"
     ]
    },
    {
     "data": {
      "text/plain": [
       "True"
      ]
     },
     "execution_count": 32,
     "metadata": {},
     "output_type": "execute_result"
    }
   ],
   "source": [
    "ChangesInTraceability_skillname(df2021, dfreportSkill )"
   ]
  },
  {
   "cell_type": "markdown",
   "metadata": {},
   "source": [
    "# Traceability Distribution of Skills with Inskill Purchase and Permissions"
   ]
  },
  {
   "cell_type": "code",
   "execution_count": 33,
   "metadata": {},
   "outputs": [
    {
     "name": "stdout",
     "output_type": "stream",
     "text": [
      "The summary of traceability of skills with inskill purchase and permissions in 2021: traceability\n",
      "B    17\n",
      "C    29\n",
      "P    35\n",
      "Name: id_name_dev, dtype: int64\n",
      "\n",
      "\n",
      "The summary of traceability of skills with inskill purchase and permissions in 2020: traceability\n",
      "B    38\n",
      "C    25\n",
      "P    23\n",
      "Name: id_name_dev, dtype: int64\n"
     ]
    }
   ],
   "source": [
    "dfSkillPurchase2021 = df2021_selected[df2021_selected['in_skill_purchase'].str.contains('Av', case=False, na=False)]\n",
    "print('The summary of traceability of skills with inskill purchase and permissions in 2021:'\\\n",
    "      , dfSkillPurchase2021.groupby('traceability')['id_name_dev'].nunique())\n",
    "\n",
    "dfSkillPurchase2020 = df2020_selected[df2020_selected['in_skill_purchase'].str.contains('Av', case=False, na=False)]\n",
    "print('\\n\\nThe summary of traceability of skills with inskill purchase and permissions in 2020:'\\\n",
    "      , dfSkillPurchase2020.groupby('traceability')['id_name_dev'].nunique())\n"
   ]
  },
  {
   "cell_type": "markdown",
   "metadata": {},
   "source": [
    "# Categories of Skill with Inskill Purchase with or without Permission"
   ]
  },
  {
   "cell_type": "code",
   "execution_count": 34,
   "metadata": {
    "scrolled": true
   },
   "outputs": [
    {
     "name": "stdout",
     "output_type": "stream",
     "text": [
      "The category of Skills with In skill Purchase in 2021 : cat\n",
      "Accessories                             7\n",
      "Alarms & Clocks                         3\n",
      "Astrology                               3\n",
      "Business & Finance                     13\n",
      "Communication                           2\n",
      "Cooking & Recipes                       1\n",
      "Dating                                  1\n",
      "Device Tracking                         1\n",
      "Education & Reference                  55\n",
      "Exercise & Workout                      1\n",
      "Flight Finders                          1\n",
      "Food & Drink                            6\n",
      "Friends & Family                        2\n",
      "Game Info & Accessories                 2\n",
      "Games                                 160\n",
      "Games & Trivia                        285\n",
      "Health & Fitness                       26\n",
      "Home Services                           3\n",
      "Kids                                   40\n",
      "Knowledge & Trivia                    194\n",
      "Lifestyle                              46\n",
      "Local                                   1\n",
      "Movie Info & Reviews                    3\n",
      "Movies & TV                             2\n",
      "Music & Audio                         153\n",
      "News                                    4\n",
      "Novelty & Humor                        12\n",
      "Novelty & Humour                        6\n",
      "Organizers & Assistants                 7\n",
      "Pets & Animals                          9\n",
      "Podcasts                                1\n",
      "Productivity                           13\n",
      "Religion & Spirituality                 9\n",
      "Restaurant Booking, Info & Reviews      1\n",
      "Self Improvement                       15\n",
      "Shopping                                2\n",
      "Smart Home                              1\n",
      "Social                                  7\n",
      "Sports                                  2\n",
      "Streaming Services                    228\n",
      "TV Guides                               1\n",
      "To-Do Lists & Notes                     4\n",
      "Travel & Transportation                 5\n",
      "Utilities                              52\n",
      "Weather                                 3\n",
      "Name: id_name_dev, dtype: int64\n",
      "\n",
      "\n",
      "The category of Skills with In skill Purchase in 2020 : cat\n",
      "Accessories                  7\n",
      "Alarms & Clocks              3\n",
      "Astrology                    3\n",
      "Business & Finance          11\n",
      "Communication                2\n",
      "Cooking & Recipes            1\n",
      "Device Tracking              2\n",
      "Education & Reference       42\n",
      "Exercise & Workout           2\n",
      "Flight Finders               1\n",
      "Food & Drink                 4\n",
      "Friends & Family             1\n",
      "Game Info & Accessories      2\n",
      "Games                      153\n",
      "Games & Trivia             197\n",
      "Health & Fitness            11\n",
      "Home Services                3\n",
      "Kids                        31\n",
      "Knowledge & Trivia         166\n",
      "Lifestyle                   30\n",
      "Local                        1\n",
      "Movie Info & Reviews         3\n",
      "Movies & TV                  1\n",
      "Music & Audio               23\n",
      "News                         2\n",
      "Novelty & Humor             12\n",
      "Organizers & Assistants      7\n",
      "Pets & Animals               8\n",
      "Podcasts                     1\n",
      "Productivity                10\n",
      "Religion & Spirituality      6\n",
      "Self Improvement             8\n",
      "Shopping                     1\n",
      "Smart Home                   1\n",
      "Social                       7\n",
      "Sports                       2\n",
      "Streaming Services         182\n",
      "TV Guides                    1\n",
      "To-Do Lists & Notes          4\n",
      "Travel & Transportation      4\n",
      "Utilities                    1\n",
      "Weather                      2\n",
      "Name: id_name_dev, dtype: int64\n"
     ]
    }
   ],
   "source": [
    "dfSkillPurchase2021all = df2021[df2021['in_skill_purchase'].str.contains('Av', case=False, na=False)]\n",
    "dfSkillPurchase2021all = dfSkillPurchase2021all.drop_duplicates('id_name_dev')\n",
    "\n",
    "dfSkillPurchase2020all = df2020[df2020['in_skill_purchase'].str.contains('Av', case=False, na=False)]\n",
    "dfSkillPurchase2020all = dfSkillPurchase2020all.drop_duplicates('id_name_dev')\n",
    "\n",
    "print('The category of Skills with In skill Purchase in 2021 :', dfSkillPurchase2021all.groupby('cat')['id_name_dev'].nunique())\n",
    "\n",
    "print('\\n\\nThe category of Skills with In skill Purchase in 2020 :', dfSkillPurchase2020all.groupby('cat')['id_name_dev'].nunique())"
   ]
  },
  {
   "cell_type": "markdown",
   "metadata": {},
   "source": [
    "# Adding a Column with the length of normalised permissions requested"
   ]
  },
  {
   "cell_type": "code",
   "execution_count": 35,
   "metadata": {},
   "outputs": [],
   "source": [
    "def addpermlength(df):\n",
    "    df['perm_length'] = ''\n",
    "    for index, row in df.iterrows():\n",
    "        permissions_requested = row['perm_requested_norm']\n",
    "        permissions_requested_2 = permissions_requested.replace('[', '').replace(']', '').replace('\\'', '').split(',')\n",
    "        df.loc[index,'perm_length'] = len(permissions_requested_2)"
   ]
  },
  {
   "cell_type": "code",
   "execution_count": 36,
   "metadata": {},
   "outputs": [
    {
     "name": "stderr",
     "output_type": "stream",
     "text": [
      "/Users/admin/anaconda3/lib/python3.7/site-packages/ipykernel_launcher.py:2: SettingWithCopyWarning: \n",
      "A value is trying to be set on a copy of a slice from a DataFrame.\n",
      "Try using .loc[row_indexer,col_indexer] = value instead\n",
      "\n",
      "See the caveats in the documentation: https://pandas.pydata.org/pandas-docs/stable/user_guide/indexing.html#returning-a-view-versus-a-copy\n",
      "  \n",
      "/Users/admin/anaconda3/lib/python3.7/site-packages/pandas/core/indexing.py:965: SettingWithCopyWarning: \n",
      "A value is trying to be set on a copy of a slice from a DataFrame.\n",
      "Try using .loc[row_indexer,col_indexer] = value instead\n",
      "\n",
      "See the caveats in the documentation: https://pandas.pydata.org/pandas-docs/stable/user_guide/indexing.html#returning-a-view-versus-a-copy\n",
      "  self.obj[item] = s\n"
     ]
    },
    {
     "data": {
      "text/plain": [
       "perm_length  traceability\n",
       "1            P               30\n",
       "             C               20\n",
       "             B               12\n",
       "2            P                5\n",
       "             C                4\n",
       "             B                3\n",
       "3            C                4\n",
       "             B                2\n",
       "4            C                1\n",
       "Name: traceability, dtype: int64"
      ]
     },
     "execution_count": 36,
     "metadata": {},
     "output_type": "execute_result"
    }
   ],
   "source": [
    "addpermlength(dfSkillPurchase2021)\n",
    "dfSkillPurchase2021.groupby('perm_length')['traceability'].value_counts()"
   ]
  },
  {
   "cell_type": "markdown",
   "metadata": {},
   "source": [
    "# Are skills asking for more permisssion more traceable than those with less permission?"
   ]
  },
  {
   "cell_type": "markdown",
   "metadata": {},
   "source": [
    "# Plotting the result for df2021 traceability by permission Length Hard coded"
   ]
  },
  {
   "cell_type": "code",
   "execution_count": 37,
   "metadata": {},
   "outputs": [
    {
     "data": {
      "text/plain": [
       "perm_length  traceability\n",
       "1            C               841\n",
       "             B               261\n",
       "             P               123\n",
       "2            C               173\n",
       "             B                97\n",
       "             P                89\n",
       "3            C               105\n",
       "             P                41\n",
       "             B                29\n",
       "4            C                52\n",
       "             B                 7\n",
       "             P                 6\n",
       "5            C                 7\n",
       "             P                 7\n",
       "             B                 2\n",
       "6            C                 5\n",
       "             P                 3\n",
       "7            P                 1\n",
       "Name: traceability, dtype: int64"
      ]
     },
     "execution_count": 37,
     "metadata": {},
     "output_type": "execute_result"
    }
   ],
   "source": [
    "#2021 skills with permission that require Policy\n",
    "addpermlength(df2021_selected)\n",
    "df2021_selected.groupby('perm_length')['traceability'].value_counts()\\"
   ]
  },
  {
   "cell_type": "code",
   "execution_count": 38,
   "metadata": {},
   "outputs": [
    {
     "data": {
      "image/png": "[encoded data removed]",
      "text/plain": [
       "<Figure size 432x216 with 1 Axes>"
      ]
     },
     "metadata": {
      "needs_background": "light"
     },
     "output_type": "display_data"
    }
   ],
   "source": [
    "plt.rc('xtick', labelsize=12) \n",
    "plt.rc('ytick', labelsize=12) \n",
    "\n",
    "plotdata = pd.DataFrame({'Broken':[261,97,29,7,2], 'Partial':[123,89,41,6,11], 'Complete':[841,173,105,52,12]},\n",
    "                        index = ['1','2','3','4','>=5'])\n",
    "\n",
    "plotdata.plot(kind = 'barh',width = 0.55, figsize =(6,3))\n",
    "\n",
    "plt.tight_layout()\n",
    "\n",
    "plt.ylabel('Permission Length', fontsize = 12)\n",
    "plt.xlabel('Number of Skills', fontsize = 12)\n",
    "plt.savefig('tracebynumofpermission2021.png',bbox_inches='tight')"
   ]
  },
  {
   "cell_type": "markdown",
   "metadata": {},
   "source": [
    "# Plotting the result for df2020 traceability by permission Length"
   ]
  },
  {
   "cell_type": "code",
   "execution_count": 39,
   "metadata": {},
   "outputs": [
    {
     "data": {
      "text/plain": [
       "perm_length  traceability\n",
       "1            C               590\n",
       "             B               474\n",
       "             P                77\n",
       "2            B               129\n",
       "             C               103\n",
       "             P                57\n",
       "3            C                68\n",
       "             B                40\n",
       "             P                33\n",
       "4            C                35\n",
       "             B                14\n",
       "             P                 5\n",
       "5            C                 3\n",
       "             B                 2\n",
       "             P                 2\n",
       "6            P                 2\n",
       "             C                 1\n",
       "Name: traceability, dtype: int64"
      ]
     },
     "execution_count": 39,
     "metadata": {},
     "output_type": "execute_result"
    }
   ],
   "source": [
    "#2020 skills with permission that require Policy\n",
    "addpermlength(df2020_selected)\n",
    "df2020_selected.groupby('perm_length')['traceability'].value_counts()"
   ]
  },
  {
   "cell_type": "code",
   "execution_count": 40,
   "metadata": {},
   "outputs": [
    {
     "data": {
      "image/png": "[encoded data removed]",
      "text/plain": [
       "<Figure size 432x216 with 1 Axes>"
      ]
     },
     "metadata": {
      "needs_background": "light"
     },
     "output_type": "display_data"
    }
   ],
   "source": [
    "plotdata = pd.DataFrame({'Broken':[474,129,40,14,2], 'Partial':[77,57,33,5,4], 'Complete':[590,103,68,35,4]},\n",
    "                        index = ['1','2','3','4','>=5'])\n",
    "\n",
    "plotdata.plot(kind = 'barh',width = 0.55, figsize =(6,3))\n",
    "\n",
    "plt.tight_layout()\n",
    "\n",
    "plt.ylabel('Permission Length', fontsize = 12)\n",
    "plt.xlabel('Number of Skills', fontsize = 12)\n",
    "plt.savefig('tracebynumofpermission2020.png',bbox_inches='tight')"
   ]
  },
  {
   "cell_type": "markdown",
   "metadata": {},
   "source": [
    "# Plotting the result for df2019 traceability by permission Length"
   ]
  },
  {
   "cell_type": "code",
   "execution_count": 41,
   "metadata": {},
   "outputs": [
    {
     "data": {
      "text/plain": [
       "perm_length  traceability\n",
       "1            C               346\n",
       "             B               232\n",
       "             P                74\n",
       "2            C                62\n",
       "             B                53\n",
       "             P                 8\n",
       "3            C                35\n",
       "             B                14\n",
       "             P                 4\n",
       "4            C                 3\n",
       "             B                 2\n",
       "             P                 1\n",
       "5            P                 2\n",
       "             B                 1\n",
       "6            C                 1\n",
       "Name: traceability, dtype: int64"
      ]
     },
     "execution_count": 41,
     "metadata": {},
     "output_type": "execute_result"
    }
   ],
   "source": [
    "#2019 skills with permission that require Policy\n",
    "addpermlength(df2019_selected)\n",
    "df2019_selected.groupby('perm_length')['traceability'].value_counts()"
   ]
  },
  {
   "cell_type": "code",
   "execution_count": 42,
   "metadata": {
    "scrolled": true
   },
   "outputs": [
    {
     "data": {
      "image/png": "[encoded data removed]",
      "text/plain": [
       "<Figure size 432x216 with 1 Axes>"
      ]
     },
     "metadata": {
      "needs_background": "light"
     },
     "output_type": "display_data"
    }
   ],
   "source": [
    "plotdata = pd.DataFrame({'Broken':[232,53,14,2,1], 'Partial':[74,8,4,1,2], 'Complete':[346,62,35,3,1]},\n",
    "                        index = ['1','2','3','4','>=5'])\n",
    "\n",
    "plotdata.plot(kind = 'barh',width = 0.55, figsize =(6,3))\n",
    "\n",
    "plt.tight_layout()\n",
    "\n",
    "plt.ylabel('Permission Length', fontsize = 12)\n",
    "plt.xlabel('Number of Skills', fontsize = 12)\n",
    "plt.savefig('tracebynumofpermission2019.png',bbox_inches='tight')"
   ]
  },
  {
   "cell_type": "markdown",
   "metadata": {},
   "source": [
    "# Chart for Traceability by Skills. Hard coded"
   ]
  },
  {
   "cell_type": "code",
   "execution_count": 43,
   "metadata": {},
   "outputs": [
    {
     "data": {
      "image/png": "[encoded data removed]",
      "text/plain": [
       "<Figure size 432x288 with 1 Axes>"
      ]
     },
     "metadata": {
      "needs_background": "light"
     },
     "output_type": "display_data"
    }
   ],
   "source": [
    "plotdata = pd.DataFrame({'Broken':[396,659,302], 'Partial':[270,176,89], 'Complete':[1183,800,447]},\n",
    "                        index = ['2021','2020','2019'])\n",
    "\n",
    "ax = plotdata.plot(kind = 'bar',width = 0.55, figsize =(6,4))\n",
    "\n",
    "plt.tight_layout()\n",
    "\n",
    "plt.xlabel('Year', fontsize = 12)\n",
    "plt.ylabel('Number of Skills', fontsize = 12)\n",
    "plt.xticks(rotation=0)\n",
    "\n",
    "for p in ax.patches:\n",
    "    ax.annotate(str(p.get_height()), (p.get_x() * 1.005, p.get_height() * 1.005))\n",
    "    \n",
    "plt.savefig('tracebyyearperskills.png',bbox_inches='tight')"
   ]
  },
  {
   "cell_type": "markdown",
   "metadata": {},
   "source": [
    "# Traceability by Developers"
   ]
  },
  {
   "cell_type": "code",
   "execution_count": 44,
   "metadata": {},
   "outputs": [
    {
     "data": {
      "image/png": "[encoded data removed]",
      "text/plain": [
       "<Figure size 432x288 with 1 Axes>"
      ]
     },
     "metadata": {
      "needs_background": "light"
     },
     "output_type": "display_data"
    }
   ],
   "source": [
    "plotdata = pd.DataFrame({'Broken':[324,560,227], 'Partial':[169,94,65], 'Complete':[652,436,350]},\n",
    "                        index = ['2021','2020','2019'])\n",
    "\n",
    "ax = plotdata.plot(kind = 'bar',width = 0.55, figsize =(6,4))\n",
    "\n",
    "plt.tight_layout()\n",
    "\n",
    "plt.xlabel('Year', fontsize = 12)\n",
    "plt.ylabel('Number of Devlopers', fontsize = 12)\n",
    "plt.xticks(rotation=0)\n",
    "\n",
    "for p in ax.patches:\n",
    "    ax.annotate(str(p.get_height()), (p.get_x() * 1.005, p.get_height() * 1.005))\n",
    "\n",
    "plt.savefig('tracebyyearperdeveloper.png',bbox_inches='tight')"
   ]
  },
  {
   "cell_type": "markdown",
   "metadata": {},
   "source": [
    "# Chart for Traceability of Skills with In-skill Purchase"
   ]
  },
  {
   "cell_type": "code",
   "execution_count": 45,
   "metadata": {},
   "outputs": [
    {
     "data": {
      "image/png": "[encoded data removed]",
      "text/plain": [
       "<Figure size 432x288 with 1 Axes>"
      ]
     },
     "metadata": {
      "needs_background": "light"
     },
     "output_type": "display_data"
    }
   ],
   "source": [
    "plotdata = pd.DataFrame({'Broken':[17,38], 'Partial':[35,23], 'Complete':[29,25]}, \n",
    "                        index = ['2021','2020'])\n",
    "\n",
    "ax = plotdata.plot(kind = 'bar',width = 0.55, figsize =(6,4))\n",
    "\n",
    "plt.tight_layout()\n",
    "\n",
    "plt.xlabel('Year', fontsize = 12)\n",
    "plt.ylabel('Number of Skills', fontsize = 12)\n",
    "plt.xticks(rotation=0)\n",
    "\n",
    "for p in ax.patches:\n",
    "    ax.annotate(str(p.get_height()), (p.get_x() * 1.005, p.get_height() * 1.005))\n",
    "\n",
    "plt.savefig('TracInskillPruchase.png',bbox_inches='tight')"
   ]
  },
  {
   "cell_type": "markdown",
   "metadata": {},
   "source": [
    "# Chart showing changes in traceabilitybefore and after reporting some of the skills with issues to Amazon"
   ]
  },
  {
   "cell_type": "code",
   "execution_count": 46,
   "metadata": {
    "scrolled": true
   },
   "outputs": [
    {
     "data": {
      "image/png": "[encoded data removed]",
      "text/plain": [
       "<Figure size 504x360 with 1 Axes>"
      ]
     },
     "metadata": {
      "needs_background": "light"
     },
     "output_type": "display_data"
    }
   ],
   "source": [
    "plt.rc('xtick', labelsize=8) \n",
    "plt.rc('ytick', labelsize=8) \n",
    "\n",
    "plotdata = pd.DataFrame({'Broken':[246,107,0,99], 'Partial':[0,29,429,84], 'Complete':[0,41,0,211], \n",
    "                         'Permission-Removed':[0,24,0,16], 'Skill-Removed':[0,45,0,19]}, \n",
    "                        index = ['Broken Skills Before','Broken Skills After', 'Partial Skills Before','Partial Skills After'])\n",
    "\n",
    "ax = plotdata.plot(kind = 'bar',width = 0.8, figsize =(7,5))\n",
    "\n",
    "plt.tight_layout()\n",
    "\n",
    "plt.xlabel('Reporting Status', fontsize = 12)\n",
    "plt.ylabel('Number of Skills', fontsize = 12)\n",
    "plt.xticks(rotation=0)\n",
    "\n",
    "for p in ax.patches:\n",
    "    ax.annotate(str(p.get_height()), (p.get_x() * 1.005, p.get_height() * 1.005))\n",
    "\n",
    "plt.savefig('Traceb4andAfterReporting.png',bbox_inches='tight')"
   ]
  },
  {
   "cell_type": "markdown",
   "metadata": {},
   "source": [
    "# Counting number of skills with permission that warrant privacy policy per category"
   ]
  },
  {
   "cell_type": "code",
   "execution_count": 47,
   "metadata": {
    "scrolled": false
   },
   "outputs": [
    {
     "name": "stdout",
     "output_type": "stream",
     "text": [
      "Travel & Transportation # 39 # 20 # 9 # 2 # 0 # 0 # 0 # 0\n",
      "Business & Finance # 95 # 31 # 18 # 5 # 2 # 2 # 0 # 0\n",
      "Education & Reference # 67 # 27 # 7 # 20 # 1 # 0 # 0 # 0\n",
      "Fitness & Sports # 1 # 0 # 0 # 0 # 0 # 0 # 0 # 0\n",
      "Health & Fitness # 70 # 16 # 20 # 4 # 0 # 0 # 0 # 0\n",
      "Food & Drink # 54 # 18 # 6 # 4 # 1 # 5 # 0 # 0\n",
      "Lifestyle # 100 # 16 # 16 # 7 # 2 # 1 # 0 # 0\n",
      "News # 27 # 40 # 0 # 0 # 0 # 0 # 0 # 0\n",
      "Shopping # 30 # 52 # 38 # 7 # 5 # 0 # 1 # 0\n",
      "Social # 17 # 8 # 4 # 0 # 1 # 0 # 0 # 0\n",
      "Weather # 58 # 11 # 0 # 0 # 0 # 0 # 0 # 0\n",
      "nan # 0 # 0 # 0 # 0 # 0 # 0 # 0 # 0\n",
      "Music & Audio # 292 # 4 # 14 # 1 # 0 # 0 # 0 # 0\n",
      "Smart Home # 26 # 17 # 6 # 1 # 0 # 0 # 0 # 0\n",
      "Games & Trivia # 85 # 17 # 11 # 2 # 1 # 0 # 0 # 0\n",
      "Productivity # 38 # 19 # 3 # 1 # 0 # 0 # 0 # 0\n",
      "Movies & TV # 5 # 1 # 1 # 0 # 2 # 0 # 0 # 0\n",
      "Novelty & Humour # 0 # 1 # 0 # 0 # 0 # 0 # 0 # 0\n",
      "Utilities # 19 # 1 # 2 # 1 # 0 # 0 # 0 # 0\n",
      "Knowledge & Trivia # 7 # 9 # 0 # 0 # 0 # 0 # 0 # 0\n",
      "Streaming Services # 3 # 1 # 5 # 0 # 0 # 0 # 0 # 0\n",
      "Calendars & Reminders # 9 # 0 # 0 # 0 # 0 # 0 # 0 # 0\n",
      "Organizers & Assistants # 10 # 0 # 1 # 0 # 0 # 0 # 0 # 0\n",
      "Navigation & Trip Planners # 4 # 6 # 1 # 0 # 0 # 0 # 0 # 0\n",
      "Communication # 1 # 1 # 0 # 0 # 0 # 0 # 0 # 0\n",
      "Cooking & Recipes # 1 # 2 # 0 # 0 # 0 # 0 # 0 # 0\n",
      "Wine & Beverages # 2 # 3 # 0 # 0 # 0 # 0 # 0 # 0\n",
      "Restaurant Booking, Info & Reviews # 2 # 0 # 0 # 0 # 0 # 0 # 0 # 0\n",
      "Delivery & Takeout # 1 # 0 # 0 # 0 # 0 # 0 # 0 # 0\n",
      "Games # 1 # 0 # 0 # 0 # 0 # 0 # 0 # 0\n",
      "Home Services # 22 # 4 # 2 # 0 # 0 # 0 # 0 # 0\n",
      "Pets & Animals # 2 # 0 # 0 # 1 # 0 # 0 # 0 # 0\n",
      "Event Finders # 4 # 0 # 0 # 0 # 0 # 0 # 0 # 0\n",
      "Fashion & Style # 0 # 2 # 0 # 0 # 0 # 0 # 0 # 0\n",
      "Religion & Spirituality # 2 # 0 # 0 # 0 # 0 # 0 # 0 # 0\n",
      "Self Improvement # 1 # 1 # 0 # 0 # 0 # 0 # 0 # 0\n",
      "Schools # 1 # 2 # 0 # 0 # 0 # 0 # 0 # 0\n",
      "Public Transportation # 10 # 0 # 0 # 0 # 0 # 0 # 0 # 0\n",
      "Podcasts # 1 # 0 # 0 # 0 # 0 # 0 # 0 # 0\n",
      "Hotel Finders # 1 # 1 # 0 # 0 # 0 # 0 # 0 # 0\n",
      "Device Tracking # 1 # 1 # 0 # 0 # 0 # 0 # 0 # 0\n",
      "To-Do Lists & Notes # 0 # 1 # 0 # 0 # 0 # 0 # 0 # 0\n",
      "Kids # 2 # 1 # 0 # 0 # 0 # 0 # 0 # 0\n",
      "Local # 4 # 0 # 0 # 0 # 0 # 0 # 0 # 0\n",
      "Novelty & Humor # 13 # 4 # 0 # 0 # 0 # 0 # 0 # 0\n",
      "Connected Car # 8 # 7 # 5 # 1 # 1 # 0 # 0 # 0\n",
      "Sports # 38 # 2 # 0 # 0 # 0 # 0 # 0 # 0\n"
     ]
    }
   ],
   "source": [
    "# Traceability Per number of permission per Categories\n",
    "\n",
    "def TracByCat(df):\n",
    "    unique_cat = df['cat'].unique()\n",
    "    for cat in unique_cat:\n",
    "        total = []\n",
    "        for index, row in df.iterrows():\n",
    "            permissions_requested = str(row['perm_requested_norm'])\n",
    "            permissions_requested = permissions_requested.replace(']', '').replace('[', '').replace('\\'', '')\n",
    "            permissions_requested = permissions_requested.split(',')\n",
    "            if len(permissions_requested) > 0 and (row['cat'] == cat):\n",
    "                total.append(len(permissions_requested))\n",
    "        a = Counter(total)\n",
    "#         print(a)\n",
    "#         print(cat, *a)\n",
    "        print(cat, '#', a[1],'#', a[2],'#', a[3],'#', a[4],'#', a[5],'#', a[6],'#', a[7],'#', a[8])\n",
    "\n",
    "df = df2021_selected.drop_duplicates('id_name_dev')\n",
    "result = TracByCat(df)\n",
    "# Counter(result)"
   ]
  },
  {
   "cell_type": "code",
   "execution_count": null,
   "metadata": {},
   "outputs": [],
   "source": []
  }
 ],
 "metadata": {
  "kernelspec": {
   "display_name": "Python 3",
   "language": "python",
   "name": "python3"
  },
  "language_info": {
   "codemirror_mode": {
    "name": "ipython",
    "version": 3
   },
   "file_extension": ".py",
   "mimetype": "text/x-python",
   "name": "python",
   "nbconvert_exporter": "python",
   "pygments_lexer": "ipython3",
   "version": "3.7.6"
  }
 },
 "nbformat": 4,
 "nbformat_minor": 2
}

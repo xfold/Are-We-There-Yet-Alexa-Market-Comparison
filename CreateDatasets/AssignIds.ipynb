{
 "cells": [
  {
   "cell_type": "markdown",
   "metadata": {},
   "source": [
    "# AssignIds"
   ]
  },
  {
   "cell_type": "raw",
   "metadata": {},
   "source": [
    "In this notebook, we assign id's to all skills based on skillname__developer and save it into the real dataset"
   ]
  },
  {
   "cell_type": "markdown",
   "metadata": {},
   "source": [
    "## Load all datasets"
   ]
  },
  {
   "cell_type": "code",
   "execution_count": 1,
   "metadata": {},
   "outputs": [],
   "source": [
    "import pandas as pd\n",
    "import time\n",
    "\n",
    "alldatasets = [\n",
    "    '../datasets/DatasetsProcessedTraceability/2019.csv',\n",
    "    '../datasets/DatasetsProcessedTraceability/2020.csv',\n",
    "    '../datasets/DatasetsProcessedTraceability/2021.csv',\n",
    "]\n",
    "\n",
    "\n",
    "def getId(skillname, skilldev, allIds, lastId):\n",
    "    idmapping = str(skillname)+'__'+str(skilldev)\n",
    "    if(idmapping in allIds):\n",
    "        return [allIds[idmapping], lastId]\n",
    "    else:\n",
    "        lastId=lastId+1\n",
    "        allIds[idmapping] = lastId\n",
    "        return [lastId, lastId]\n",
    "    "
   ]
  },
  {
   "cell_type": "code",
   "execution_count": 2,
   "metadata": {},
   "outputs": [
    {
     "name": "stderr",
     "output_type": "stream",
     "text": [
      "C:\\Users\\User\\AppData\\Roaming\\Python\\Python37\\site-packages\\IPython\\core\\interactiveshell.py:3049: DtypeWarning: Columns (9,10) have mixed types. Specify dtype option on import or set low_memory=False.\n",
      "  interactivity=interactivity, compiler=compiler, result=result)\n",
      "C:\\Users\\User\\AppData\\Roaming\\Python\\Python37\\site-packages\\IPython\\core\\interactiveshell.py:3049: DtypeWarning: Columns (10) have mixed types. Specify dtype option on import or set low_memory=False.\n",
      "  interactivity=interactivity, compiler=compiler, result=result)\n"
     ]
    }
   ],
   "source": [
    "df2019 = pd.read_csv(alldatasets[0])\n",
    "df2020 = pd.read_csv(alldatasets[1])\n",
    "df2021 = pd.read_csv(alldatasets[2])"
   ]
  },
  {
   "cell_type": "markdown",
   "metadata": {},
   "source": [
    "## 2019"
   ]
  },
  {
   "cell_type": "code",
   "execution_count": 3,
   "metadata": {},
   "outputs": [
    {
     "name": "stdout",
     "output_type": "stream",
     "text": [
      "--- 185.758722782135 seconds ---\n"
     ]
    }
   ],
   "source": [
    "lastId = 0\n",
    "allIds = {}\n",
    "\n",
    "start_time = time.time()\n",
    "\n",
    "for index, row in df2019.iterrows():\n",
    "    [idassigned, lastId] = getId( row['name'], row['dev'], allIds, lastId )\n",
    "    df2019.loc[index, 'id'] = idassigned\n",
    "df2019['id'] = df2019['id'].astype(int) \n",
    "\n",
    "print(\"--- %s seconds ---\" % (time.time() - start_time))"
   ]
  },
  {
   "cell_type": "code",
   "execution_count": 4,
   "metadata": {},
   "outputs": [
    {
     "data": {
      "text/plain": [
       "84856"
      ]
     },
     "execution_count": 4,
     "metadata": {},
     "output_type": "execute_result"
    }
   ],
   "source": [
    "lastId"
   ]
  },
  {
   "cell_type": "code",
   "execution_count": 5,
   "metadata": {},
   "outputs": [],
   "source": [
    "df2019.to_csv('../datasets/DatasetsProcessedTraceability/2019_ids.csv')"
   ]
  },
  {
   "cell_type": "markdown",
   "metadata": {},
   "source": [
    "## 2020"
   ]
  },
  {
   "cell_type": "code",
   "execution_count": 6,
   "metadata": {},
   "outputs": [
    {
     "name": "stdout",
     "output_type": "stream",
     "text": [
      "--- 1414.6438376903534 seconds ---\n"
     ]
    }
   ],
   "source": [
    "\n",
    "start_time = time.time()\n",
    "\n",
    "for index, row in df2020.iterrows():\n",
    "    [idassigned, lastId] = getId( row['name'], row['dev'], allIds, lastId )\n",
    "    df2020.loc[index, 'id'] = idassigned\n",
    "df2020['id'] = df2020['id'].astype(int) \n",
    "\n",
    "print(\"--- %s seconds ---\" % (time.time() - start_time))"
   ]
  },
  {
   "cell_type": "code",
   "execution_count": 7,
   "metadata": {},
   "outputs": [
    {
     "data": {
      "text/plain": [
       "126505"
      ]
     },
     "execution_count": 7,
     "metadata": {},
     "output_type": "execute_result"
    }
   ],
   "source": [
    "lastId"
   ]
  },
  {
   "cell_type": "code",
   "execution_count": 8,
   "metadata": {},
   "outputs": [],
   "source": [
    "df2020.to_csv('../datasets/DatasetsProcessedTraceability/2020_ids.csv')"
   ]
  },
  {
   "cell_type": "markdown",
   "metadata": {},
   "source": [
    "## 2021"
   ]
  },
  {
   "cell_type": "code",
   "execution_count": 9,
   "metadata": {},
   "outputs": [
    {
     "name": "stdout",
     "output_type": "stream",
     "text": [
      "--- 1868.96271109581 seconds ---\n"
     ]
    }
   ],
   "source": [
    "start_time = time.time()\n",
    "\n",
    "for index, row in df2021.iterrows():\n",
    "    [idassigned, lastId] = getId( row['name'], row['dev'], allIds, lastId )\n",
    "    df2021.loc[index, 'id'] = idassigned\n",
    "    \n",
    "df2021['id'] = df2021['id'].astype(int) \n",
    "\n",
    "print(\"--- %s seconds ---\" % (time.time() - start_time))"
   ]
  },
  {
   "cell_type": "code",
   "execution_count": 10,
   "metadata": {},
   "outputs": [
    {
     "data": {
      "text/plain": [
       "149227"
      ]
     },
     "execution_count": 10,
     "metadata": {},
     "output_type": "execute_result"
    }
   ],
   "source": [
    "lastId"
   ]
  },
  {
   "cell_type": "code",
   "execution_count": 11,
   "metadata": {},
   "outputs": [],
   "source": [
    "df2021.to_csv('../datasets/DatasetsProcessedTraceability/2021_ids.csv')"
   ]
  },
  {
   "cell_type": "markdown",
   "metadata": {},
   "source": [
    "#### Save the allids hashmap"
   ]
  },
  {
   "cell_type": "code",
   "execution_count": 12,
   "metadata": {},
   "outputs": [],
   "source": [
    "import json\n",
    "with open('../datasets/DatasetsProcessedTraceability/ids.json', \"w\") as fp:\n",
    "    json.dump(allIds , fp) "
   ]
  },
  {
   "cell_type": "markdown",
   "metadata": {},
   "source": [
    "## After all this, we load the dataset and test whether it makes sense or not"
   ]
  },
  {
   "cell_type": "code",
   "execution_count": 13,
   "metadata": {},
   "outputs": [],
   "source": [
    "alldatasets = [\n",
    "    '../datasets/DatasetsProcessedTraceability/2019_ids.csv',\n",
    "    '../datasets/DatasetsProcessedTraceability/2020_ids.csv',\n",
    "    '../datasets/DatasetsProcessedTraceability/2021_ids.csv',\n",
    "]\n",
    "\n",
    "with open('../datasets/DatasetsProcessedTraceability/ids.json', 'r') as json_file:\n",
    "    allIds2 = json.load(json_file)\n"
   ]
  },
  {
   "cell_type": "code",
   "execution_count": 14,
   "metadata": {},
   "outputs": [
    {
     "name": "stderr",
     "output_type": "stream",
     "text": [
      "C:\\Users\\User\\AppData\\Roaming\\Python\\Python37\\site-packages\\IPython\\core\\interactiveshell.py:3049: DtypeWarning: Columns (10,11) have mixed types. Specify dtype option on import or set low_memory=False.\n",
      "  interactivity=interactivity, compiler=compiler, result=result)\n",
      "C:\\Users\\User\\AppData\\Roaming\\Python\\Python37\\site-packages\\IPython\\core\\interactiveshell.py:3049: DtypeWarning: Columns (11) have mixed types. Specify dtype option on import or set low_memory=False.\n",
      "  interactivity=interactivity, compiler=compiler, result=result)\n"
     ]
    }
   ],
   "source": [
    "df2019_id = pd.read_csv(alldatasets[0])\n",
    "df2020_id = pd.read_csv(alldatasets[1])\n",
    "df2021_id = pd.read_csv(alldatasets[2])"
   ]
  },
  {
   "cell_type": "code",
   "execution_count": 15,
   "metadata": {},
   "outputs": [
    {
     "data": {
      "text/plain": [
       "Index(['Unnamed: 0', 'Unnamed: 0.1', 'id_name_dev', 'id_aux', 'id', 'name',\n",
       "       'dev', 'cat', 'market', 'subcat', 'acc_linking', 'in_skill_purchase',\n",
       "       'cost', 'review_stars', 'skill_link', 'perm_requested_original', 'year',\n",
       "       'perm_found_norm', 'perm_requested_norm', 'policy_url', 'policy_text',\n",
       "       'traceability'],\n",
       "      dtype='object')"
      ]
     },
     "execution_count": 15,
     "metadata": {},
     "output_type": "execute_result"
    }
   ],
   "source": [
    "df2019_id.columns"
   ]
  },
  {
   "cell_type": "code",
   "execution_count": 16,
   "metadata": {},
   "outputs": [],
   "source": [
    "def findSkillById(skillid, dataframes):\n",
    "    '''\n",
    "    skillid : int, representing skill id\n",
    "    dataframes : list of dataframes to check\n",
    "    '''\n",
    "    for df in dataframes:\n",
    "        print(df[df['id']==skillid][['name', 'dev', 'market', 'perm_requested_norm']])\n",
    "    \n",
    "    "
   ]
  },
  {
   "cell_type": "code",
   "execution_count": 17,
   "metadata": {},
   "outputs": [
    {
     "name": "stdout",
     "output_type": "stream",
     "text": [
      "                        name                dev market perm_requested_norm\n",
      "10999  Machine Of Death (UK)  by dot-notdot.com     AU                 NaN\n",
      "35955  Machine Of Death (UK)  by dot-notdot.com     CA                 NaN\n",
      "70419  Machine Of Death (UK)  by dot-notdot.com     IN                 NaN\n",
      "97579  Machine Of Death (UK)  by dot-notdot.com     UK                 NaN\n",
      "                         name                dev market perm_requested_norm\n",
      "11063   Machine Of Death (UK)  by dot-notdot.com     AU                 NaN\n",
      "117190  Machine Of Death (UK)  by dot-notdot.com     UK                 NaN\n",
      "                         name                dev market perm_requested_norm\n",
      "11843   Machine Of Death (UK)  by dot-notdot.com     AU                 NaN\n",
      "140543  Machine Of Death (UK)  by dot-notdot.com     UK                 NaN\n"
     ]
    }
   ],
   "source": [
    "findSkillById(11000, [df2019_id, df2020_id, df2021_id])"
   ]
  },
  {
   "cell_type": "markdown",
   "metadata": {},
   "source": [
    "#### Find the skill id given a skill name and developer"
   ]
  },
  {
   "cell_type": "code",
   "execution_count": 18,
   "metadata": {},
   "outputs": [],
   "source": [
    "with open('../datasets/DatasetsProcessedTraceability/ids.json', 'r') as json_file:\n",
    "    allIds2 = json.load(json_file)"
   ]
  },
  {
   "cell_type": "code",
   "execution_count": 19,
   "metadata": {},
   "outputs": [
    {
     "name": "stdout",
     "output_type": "stream",
     "text": [
      "742\n"
     ]
    }
   ],
   "source": [
    "name = 'Stitcher'\n",
    "dev = 'by Stitcher'\n",
    "key = name+'__'+dev\n",
    "print( allIds2[key] )"
   ]
  },
  {
   "cell_type": "code",
   "execution_count": 20,
   "metadata": {},
   "outputs": [
    {
     "name": "stdout",
     "output_type": "stream",
     "text": [
      "            name          dev market                 perm_requested_norm\n",
      "741     Stitcher  by Stitcher     AU  ['device country and postal code']\n",
      "23486   Stitcher  by Stitcher     CA  ['device country and postal code']\n",
      "76032   Stitcher  by Stitcher     IN  ['device country and postal code']\n",
      "88152   Stitcher  by Stitcher     UK  ['device country and postal code']\n",
      "116194  Stitcher  by Stitcher     US  ['device country and postal code']\n",
      "            name          dev market                 perm_requested_norm\n",
      "41308   Stitcher  by Stitcher     CA  ['device country and postal code']\n",
      "131165  Stitcher  by Stitcher     UK  ['device country and postal code']\n",
      "177055  Stitcher  by Stitcher     US  ['device country and postal code']\n",
      "            name          dev market                 perm_requested_norm\n",
      "93991   Stitcher  by Stitcher     IN  ['device country and postal code']\n",
      "131778  Stitcher  by Stitcher     UK  ['device country and postal code']\n",
      "172109  Stitcher  by Stitcher     US  ['device country and postal code']\n"
     ]
    }
   ],
   "source": [
    "#then check how it changed over time\n",
    "findSkillById(742, [df2019_id, df2020_id, df2021_id])"
   ]
  },
  {
   "cell_type": "code",
   "execution_count": 23,
   "metadata": {},
   "outputs": [
    {
     "data": {
      "text/html": [
       "<div>\n",
       "<style scoped>\n",
       "    .dataframe tbody tr th:only-of-type {\n",
       "        vertical-align: middle;\n",
       "    }\n",
       "\n",
       "    .dataframe tbody tr th {\n",
       "        vertical-align: top;\n",
       "    }\n",
       "\n",
       "    .dataframe thead th {\n",
       "        text-align: right;\n",
       "    }\n",
       "</style>\n",
       "<table border=\"1\" class=\"dataframe\">\n",
       "  <thead>\n",
       "    <tr style=\"text-align: right;\">\n",
       "      <th></th>\n",
       "      <th>Unnamed: 0</th>\n",
       "      <th>Unnamed: 0.1</th>\n",
       "      <th>id_name_dev</th>\n",
       "      <th>id_aux</th>\n",
       "      <th>id</th>\n",
       "      <th>name</th>\n",
       "      <th>dev</th>\n",
       "      <th>cat</th>\n",
       "      <th>market</th>\n",
       "      <th>subcat</th>\n",
       "      <th>...</th>\n",
       "      <th>cost</th>\n",
       "      <th>review_stars</th>\n",
       "      <th>skill_link</th>\n",
       "      <th>year</th>\n",
       "      <th>perm_requested_original</th>\n",
       "      <th>perm_found_norm</th>\n",
       "      <th>perm_requested_norm</th>\n",
       "      <th>policy_url</th>\n",
       "      <th>policy_text</th>\n",
       "      <th>traceability</th>\n",
       "    </tr>\n",
       "  </thead>\n",
       "  <tbody>\n",
       "    <tr>\n",
       "      <th>741</th>\n",
       "      <td>741</td>\n",
       "      <td>741</td>\n",
       "      <td>Stitcher__by Stitcher</td>\n",
       "      <td>Stitcher__by Stitcher__</td>\n",
       "      <td>742</td>\n",
       "      <td>Stitcher</td>\n",
       "      <td>by Stitcher</td>\n",
       "      <td>Music &amp; Audio</td>\n",
       "      <td>AU</td>\n",
       "      <td>Music &amp; Audio</td>\n",
       "      <td>...</td>\n",
       "      <td>Free to Enable</td>\n",
       "      <td>3.9 out of 5 stars</td>\n",
       "      <td>NaN</td>\n",
       "      <td>2019</td>\n",
       "      <td>['Device Country and Postcode']</td>\n",
       "      <td>['mobile number', 'name', 'amazon pay', 'skill...</td>\n",
       "      <td>['device country and postal code']</td>\n",
       "      <td>https://www.stitcher.com/privacy</td>\n",
       "      <td>Stitcher Privacy Policy      stitcherLogo Crea...</td>\n",
       "      <td>C</td>\n",
       "    </tr>\n",
       "    <tr>\n",
       "      <th>23486</th>\n",
       "      <td>23486</td>\n",
       "      <td>23486</td>\n",
       "      <td>Stitcher__by Stitcher</td>\n",
       "      <td>Stitcher__by Stitcher__</td>\n",
       "      <td>742</td>\n",
       "      <td>Stitcher</td>\n",
       "      <td>by Stitcher</td>\n",
       "      <td>Music &amp; Audio</td>\n",
       "      <td>CA</td>\n",
       "      <td>Podcasts</td>\n",
       "      <td>...</td>\n",
       "      <td>Free to Enable</td>\n",
       "      <td>4.0 out of 5 stars</td>\n",
       "      <td>NaN</td>\n",
       "      <td>2019</td>\n",
       "      <td>['Device Country and Postcode']</td>\n",
       "      <td>['mobile number', 'name', 'amazon pay', 'skill...</td>\n",
       "      <td>['device country and postal code']</td>\n",
       "      <td>https://www.stitcher.com/privacy</td>\n",
       "      <td>Stitcher Privacy Policy      stitcherLogo Crea...</td>\n",
       "      <td>C</td>\n",
       "    </tr>\n",
       "    <tr>\n",
       "      <th>76032</th>\n",
       "      <td>76032</td>\n",
       "      <td>76032</td>\n",
       "      <td>Stitcher__by Stitcher</td>\n",
       "      <td>Stitcher__by Stitcher__</td>\n",
       "      <td>742</td>\n",
       "      <td>Stitcher</td>\n",
       "      <td>by Stitcher</td>\n",
       "      <td>Music &amp; Audio</td>\n",
       "      <td>IN</td>\n",
       "      <td>Podcasts</td>\n",
       "      <td>...</td>\n",
       "      <td>Free to Enable</td>\n",
       "      <td>3.5 out of 5 stars</td>\n",
       "      <td>NaN</td>\n",
       "      <td>2019</td>\n",
       "      <td>['Device Country and Postcode']</td>\n",
       "      <td>['mobile number', 'name', 'amazon pay', 'skill...</td>\n",
       "      <td>['device country and postal code']</td>\n",
       "      <td>https://www.stitcher.com/privacy</td>\n",
       "      <td>Stitcher Privacy Policy      stitcherLogo Crea...</td>\n",
       "      <td>C</td>\n",
       "    </tr>\n",
       "    <tr>\n",
       "      <th>88152</th>\n",
       "      <td>88152</td>\n",
       "      <td>88152</td>\n",
       "      <td>Stitcher__by Stitcher</td>\n",
       "      <td>Stitcher__by Stitcher__</td>\n",
       "      <td>742</td>\n",
       "      <td>Stitcher</td>\n",
       "      <td>by Stitcher</td>\n",
       "      <td>NaN</td>\n",
       "      <td>UK</td>\n",
       "      <td>NaN</td>\n",
       "      <td>...</td>\n",
       "      <td>Free to Enable</td>\n",
       "      <td>3.3 out of 5 stars</td>\n",
       "      <td>NaN</td>\n",
       "      <td>2019</td>\n",
       "      <td>['Device Country and Postcode']</td>\n",
       "      <td>['mobile number', 'name', 'amazon pay', 'skill...</td>\n",
       "      <td>['device country and postal code']</td>\n",
       "      <td>https://www.stitcher.com/privacy</td>\n",
       "      <td>Stitcher Privacy Policy      stitcherLogo Crea...</td>\n",
       "      <td>C</td>\n",
       "    </tr>\n",
       "    <tr>\n",
       "      <th>116194</th>\n",
       "      <td>116194</td>\n",
       "      <td>116194</td>\n",
       "      <td>Stitcher__by Stitcher</td>\n",
       "      <td>Stitcher__by Stitcher__</td>\n",
       "      <td>742</td>\n",
       "      <td>Stitcher</td>\n",
       "      <td>by Stitcher</td>\n",
       "      <td>NaN</td>\n",
       "      <td>US</td>\n",
       "      <td>NaN</td>\n",
       "      <td>...</td>\n",
       "      <td>Free to Enable</td>\n",
       "      <td>4.0 out of 5 stars</td>\n",
       "      <td>NaN</td>\n",
       "      <td>2019</td>\n",
       "      <td>['Device Country and Postcode']</td>\n",
       "      <td>['mobile number', 'name', 'amazon pay', 'skill...</td>\n",
       "      <td>['device country and postal code']</td>\n",
       "      <td>https://www.stitcher.com/privacy</td>\n",
       "      <td>Stitcher Privacy Policy      stitcherLogo Crea...</td>\n",
       "      <td>C</td>\n",
       "    </tr>\n",
       "  </tbody>\n",
       "</table>\n",
       "<p>5 rows × 22 columns</p>\n",
       "</div>"
      ],
      "text/plain": [
       "        Unnamed: 0  Unnamed: 0.1            id_name_dev  \\\n",
       "741            741           741  Stitcher__by Stitcher   \n",
       "23486        23486         23486  Stitcher__by Stitcher   \n",
       "76032        76032         76032  Stitcher__by Stitcher   \n",
       "88152        88152         88152  Stitcher__by Stitcher   \n",
       "116194      116194        116194  Stitcher__by Stitcher   \n",
       "\n",
       "                         id_aux   id      name          dev            cat  \\\n",
       "741     Stitcher__by Stitcher__  742  Stitcher  by Stitcher  Music & Audio   \n",
       "23486   Stitcher__by Stitcher__  742  Stitcher  by Stitcher  Music & Audio   \n",
       "76032   Stitcher__by Stitcher__  742  Stitcher  by Stitcher  Music & Audio   \n",
       "88152   Stitcher__by Stitcher__  742  Stitcher  by Stitcher            NaN   \n",
       "116194  Stitcher__by Stitcher__  742  Stitcher  by Stitcher            NaN   \n",
       "\n",
       "       market         subcat  ...            cost        review_stars  \\\n",
       "741        AU  Music & Audio  ...  Free to Enable  3.9 out of 5 stars   \n",
       "23486      CA       Podcasts  ...  Free to Enable  4.0 out of 5 stars   \n",
       "76032      IN       Podcasts  ...  Free to Enable  3.5 out of 5 stars   \n",
       "88152      UK            NaN  ...  Free to Enable  3.3 out of 5 stars   \n",
       "116194     US            NaN  ...  Free to Enable  4.0 out of 5 stars   \n",
       "\n",
       "       skill_link  year          perm_requested_original  \\\n",
       "741           NaN  2019  ['Device Country and Postcode']   \n",
       "23486         NaN  2019  ['Device Country and Postcode']   \n",
       "76032         NaN  2019  ['Device Country and Postcode']   \n",
       "88152         NaN  2019  ['Device Country and Postcode']   \n",
       "116194        NaN  2019  ['Device Country and Postcode']   \n",
       "\n",
       "                                          perm_found_norm  \\\n",
       "741     ['mobile number', 'name', 'amazon pay', 'skill...   \n",
       "23486   ['mobile number', 'name', 'amazon pay', 'skill...   \n",
       "76032   ['mobile number', 'name', 'amazon pay', 'skill...   \n",
       "88152   ['mobile number', 'name', 'amazon pay', 'skill...   \n",
       "116194  ['mobile number', 'name', 'amazon pay', 'skill...   \n",
       "\n",
       "                       perm_requested_norm                        policy_url  \\\n",
       "741     ['device country and postal code']  https://www.stitcher.com/privacy   \n",
       "23486   ['device country and postal code']  https://www.stitcher.com/privacy   \n",
       "76032   ['device country and postal code']  https://www.stitcher.com/privacy   \n",
       "88152   ['device country and postal code']  https://www.stitcher.com/privacy   \n",
       "116194  ['device country and postal code']  https://www.stitcher.com/privacy   \n",
       "\n",
       "                                              policy_text traceability  \n",
       "741     Stitcher Privacy Policy      stitcherLogo Crea...            C  \n",
       "23486   Stitcher Privacy Policy      stitcherLogo Crea...            C  \n",
       "76032   Stitcher Privacy Policy      stitcherLogo Crea...            C  \n",
       "88152   Stitcher Privacy Policy      stitcherLogo Crea...            C  \n",
       "116194  Stitcher Privacy Policy      stitcherLogo Crea...            C  \n",
       "\n",
       "[5 rows x 22 columns]"
      ]
     },
     "execution_count": 23,
     "metadata": {},
     "output_type": "execute_result"
    }
   ],
   "source": [
    "df2019_id[df2019_id['name'] == 'Stitcher']\n"
   ]
  },
  {
   "cell_type": "code",
   "execution_count": null,
   "metadata": {},
   "outputs": [],
   "source": []
  }
 ],
 "metadata": {
  "kernelspec": {
   "display_name": "Python 3",
   "language": "python",
   "name": "python3"
  },
  "language_info": {
   "codemirror_mode": {
    "name": "ipython",
    "version": 3
   },
   "file_extension": ".py",
   "mimetype": "text/x-python",
   "name": "python",
   "nbconvert_exporter": "python",
   "pygments_lexer": "ipython3",
   "version": "3.7.9"
  }
 },
 "nbformat": 4,
 "nbformat_minor": 2
}
